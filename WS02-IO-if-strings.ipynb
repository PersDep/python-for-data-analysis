{
  "nbformat": 4,
  "nbformat_minor": 0,
  "metadata": {
    "kernelspec": {
      "display_name": "Python 3",
      "language": "python",
      "name": "python3"
    },
    "language_info": {
      "codemirror_mode": {
        "name": "ipython",
        "version": 3
      },
      "file_extension": ".py",
      "mimetype": "text/x-python",
      "name": "python",
      "nbconvert_exporter": "python",
      "pygments_lexer": "ipython3",
      "version": "3.8.5"
    },
    "toc": {
      "base_numbering": 1,
      "nav_menu": {},
      "number_sections": true,
      "sideBar": true,
      "skip_h1_title": false,
      "title_cell": "Table of Contents",
      "title_sidebar": "Contents",
      "toc_cell": false,
      "toc_position": {},
      "toc_section_display": true,
      "toc_window_display": true
    },
    "varInspector": {
      "cols": {
        "lenName": 16,
        "lenType": 16,
        "lenVar": 40
      },
      "kernels_config": {
        "python": {
          "delete_cmd_postfix": "",
          "delete_cmd_prefix": "del ",
          "library": "var_list.py",
          "varRefreshCmd": "print(var_dic_list())"
        },
        "r": {
          "delete_cmd_postfix": ") ",
          "delete_cmd_prefix": "rm(",
          "library": "var_list.r",
          "varRefreshCmd": "cat(var_dic_list()) "
        }
      },
      "types_to_exclude": [
        "module",
        "function",
        "builtin_function_or_method",
        "instance",
        "_Feature"
      ],
      "window_display": false
    },
    "colab": {
      "provenance": [],
      "toc_visible": true
    }
  },
  "cells": [
    {
      "cell_type": "markdown",
      "metadata": {
        "id": "rwdnUUEfakqd"
      },
      "source": [
        "### Объекты"
      ]
    },
    {
      "cell_type": "code",
      "metadata": {
        "id": "T2risR4ha5G-",
        "outputId": "bbafbe0c-db34-4442-d55e-68d373418e6d",
        "colab": {
          "base_uri": "https://localhost:8080/"
        }
      },
      "source": [
        "object"
      ],
      "execution_count": 2,
      "outputs": [
        {
          "output_type": "execute_result",
          "data": {
            "text/plain": [
              "object"
            ]
          },
          "metadata": {},
          "execution_count": 2
        }
      ]
    },
    {
      "cell_type": "code",
      "metadata": {
        "id": "QgOnYCAia6uR",
        "outputId": "40a38752-f09f-4d74-e5ad-dfe6ebe27c90",
        "colab": {
          "base_uri": "https://localhost:8080/"
        }
      },
      "source": [
        "type(object)"
      ],
      "execution_count": 3,
      "outputs": [
        {
          "output_type": "execute_result",
          "data": {
            "text/plain": [
              "type"
            ]
          },
          "metadata": {},
          "execution_count": 3
        }
      ]
    },
    {
      "cell_type": "code",
      "metadata": {
        "id": "zzdSqD9Wa8uA",
        "outputId": "d26909cb-5dff-435a-d940-3befaaad6d90",
        "colab": {
          "base_uri": "https://localhost:8080/"
        }
      },
      "source": [
        "type(type)"
      ],
      "execution_count": 4,
      "outputs": [
        {
          "output_type": "execute_result",
          "data": {
            "text/plain": [
              "type"
            ]
          },
          "metadata": {},
          "execution_count": 4
        }
      ]
    },
    {
      "cell_type": "code",
      "metadata": {
        "id": "vf_7CMx8a-E6",
        "outputId": "2941d535-e4db-41da-d448-96efef640c00",
        "colab": {
          "base_uri": "https://localhost:8080/"
        }
      },
      "source": [
        "type(type(type))"
      ],
      "execution_count": 5,
      "outputs": [
        {
          "output_type": "execute_result",
          "data": {
            "text/plain": [
              "type"
            ]
          },
          "metadata": {},
          "execution_count": 5
        }
      ]
    },
    {
      "cell_type": "code",
      "metadata": {
        "id": "5QIbxzaLa_gq",
        "outputId": "023efe10-1acd-4705-a506-9b484abd66b2",
        "colab": {
          "base_uri": "https://localhost:8080/"
        }
      },
      "source": [
        "type(type(''))"
      ],
      "execution_count": 6,
      "outputs": [
        {
          "output_type": "execute_result",
          "data": {
            "text/plain": [
              "type"
            ]
          },
          "metadata": {},
          "execution_count": 6
        }
      ]
    },
    {
      "cell_type": "code",
      "metadata": {
        "id": "DdvWBAfgbEPF",
        "outputId": "77784323-c7a7-4041-dba1-7f62b9494ecc",
        "colab": {
          "base_uri": "https://localhost:8080/"
        }
      },
      "source": [
        "type(bool)"
      ],
      "execution_count": 7,
      "outputs": [
        {
          "output_type": "execute_result",
          "data": {
            "text/plain": [
              "type"
            ]
          },
          "metadata": {},
          "execution_count": 7
        }
      ]
    },
    {
      "cell_type": "code",
      "source": [
        "bool()"
      ],
      "metadata": {
        "colab": {
          "base_uri": "https://localhost:8080/"
        },
        "id": "WY0vlh6v28IO",
        "outputId": "725046b6-6dea-4cfd-f955-6137bf511970"
      },
      "execution_count": 8,
      "outputs": [
        {
          "output_type": "execute_result",
          "data": {
            "text/plain": [
              "False"
            ]
          },
          "metadata": {},
          "execution_count": 8
        }
      ]
    },
    {
      "cell_type": "code",
      "metadata": {
        "id": "xJDbYhmCbFbV",
        "outputId": "55d1649f-221a-4f19-cd5d-9b4164dfb4f0",
        "colab": {
          "base_uri": "https://localhost:8080/"
        }
      },
      "source": [
        "type(bool())"
      ],
      "execution_count": null,
      "outputs": [
        {
          "output_type": "execute_result",
          "data": {
            "text/plain": [
              "bool"
            ]
          },
          "metadata": {},
          "execution_count": 33
        }
      ]
    },
    {
      "cell_type": "code",
      "source": [
        "a = 3\n",
        "b = 2\n",
        "print(a.__mul__(b))\n",
        "a * b"
      ],
      "metadata": {
        "id": "Uk03gR3R0Lyk",
        "outputId": "b021c495-8e43-4150-d5ff-df4bb5b72420",
        "colab": {
          "base_uri": "https://localhost:8080/"
        }
      },
      "execution_count": 10,
      "outputs": [
        {
          "output_type": "stream",
          "name": "stdout",
          "text": [
            "6\n"
          ]
        },
        {
          "output_type": "execute_result",
          "data": {
            "text/plain": [
              "6"
            ]
          },
          "metadata": {},
          "execution_count": 10
        }
      ]
    },
    {
      "cell_type": "code",
      "source": [
        "dir(object)"
      ],
      "metadata": {
        "colab": {
          "base_uri": "https://localhost:8080/"
        },
        "id": "AGLNhrLb3cO2",
        "outputId": "32427f5a-7e9b-49ef-8a6f-0aaadee0c850"
      },
      "execution_count": 11,
      "outputs": [
        {
          "output_type": "execute_result",
          "data": {
            "text/plain": [
              "['__class__',\n",
              " '__delattr__',\n",
              " '__dir__',\n",
              " '__doc__',\n",
              " '__eq__',\n",
              " '__format__',\n",
              " '__ge__',\n",
              " '__getattribute__',\n",
              " '__gt__',\n",
              " '__hash__',\n",
              " '__init__',\n",
              " '__init_subclass__',\n",
              " '__le__',\n",
              " '__lt__',\n",
              " '__ne__',\n",
              " '__new__',\n",
              " '__reduce__',\n",
              " '__reduce_ex__',\n",
              " '__repr__',\n",
              " '__setattr__',\n",
              " '__sizeof__',\n",
              " '__str__',\n",
              " '__subclasshook__']"
            ]
          },
          "metadata": {},
          "execution_count": 11
        }
      ]
    },
    {
      "cell_type": "code",
      "source": [
        "object?"
      ],
      "metadata": {
        "id": "bDlyPlW03nll"
      },
      "execution_count": 12,
      "outputs": []
    },
    {
      "cell_type": "code",
      "source": [
        "object.__bases__"
      ],
      "metadata": {
        "colab": {
          "base_uri": "https://localhost:8080/"
        },
        "id": "LCp26Twe30qx",
        "outputId": "8408234b-9102-40c2-885c-0fb33770cecf"
      },
      "execution_count": 14,
      "outputs": [
        {
          "output_type": "execute_result",
          "data": {
            "text/plain": [
              "()"
            ]
          },
          "metadata": {},
          "execution_count": 14
        }
      ]
    },
    {
      "cell_type": "code",
      "metadata": {
        "id": "09fgIGnlbRNb",
        "outputId": "f19964a0-18eb-4096-d65b-4473dc8666af",
        "colab": {
          "base_uri": "https://localhost:8080/"
        }
      },
      "source": [
        "int.__bases__"
      ],
      "execution_count": 13,
      "outputs": [
        {
          "output_type": "execute_result",
          "data": {
            "text/plain": [
              "(object,)"
            ]
          },
          "metadata": {},
          "execution_count": 13
        }
      ]
    },
    {
      "cell_type": "code",
      "metadata": {
        "id": "tvfc7RuAbTmY",
        "outputId": "50bdfc42-bbf0-47b4-8242-05d5cc4e2b7d",
        "colab": {
          "base_uri": "https://localhost:8080/"
        }
      },
      "source": [
        "object.__bases__"
      ],
      "execution_count": null,
      "outputs": [
        {
          "output_type": "execute_result",
          "data": {
            "text/plain": [
              "()"
            ]
          },
          "metadata": {},
          "execution_count": 5
        }
      ]
    },
    {
      "cell_type": "code",
      "metadata": {
        "id": "lM2aicBgblKZ",
        "outputId": "bf58b153-8aac-450b-cff5-e41101f2aa03",
        "colab": {
          "base_uri": "https://localhost:8080/"
        }
      },
      "source": [
        "id(1)"
      ],
      "execution_count": 15,
      "outputs": [
        {
          "output_type": "execute_result",
          "data": {
            "text/plain": [
              "1950295261424"
            ]
          },
          "metadata": {},
          "execution_count": 15
        }
      ]
    },
    {
      "cell_type": "code",
      "metadata": {
        "id": "ox8SfKKcbmbG",
        "outputId": "ea6f9871-0be2-41c6-f600-0ad3d98a9bbe",
        "colab": {
          "base_uri": "https://localhost:8080/"
        }
      },
      "source": [
        "a = 1\n",
        "id(a)"
      ],
      "execution_count": 16,
      "outputs": [
        {
          "output_type": "execute_result",
          "data": {
            "text/plain": [
              "1950295261424"
            ]
          },
          "metadata": {},
          "execution_count": 16
        }
      ]
    },
    {
      "cell_type": "code",
      "metadata": {
        "id": "VqbmHSkWbs2R",
        "outputId": "50b538d5-ff37-484b-e63e-d3a18fda5fa4",
        "colab": {
          "base_uri": "https://localhost:8080/"
        }
      },
      "source": [
        "a += 1\n",
        "id(a)"
      ],
      "execution_count": 17,
      "outputs": [
        {
          "output_type": "execute_result",
          "data": {
            "text/plain": [
              "1950295261456"
            ]
          },
          "metadata": {},
          "execution_count": 17
        }
      ]
    },
    {
      "cell_type": "code",
      "metadata": {
        "id": "xFxxTAW0vhcv",
        "outputId": "e14221e9-b7f1-4657-e8aa-1dbfee61f579",
        "colab": {
          "base_uri": "https://localhost:8080/"
        }
      },
      "source": [
        "id(2)"
      ],
      "execution_count": 18,
      "outputs": [
        {
          "output_type": "execute_result",
          "data": {
            "text/plain": [
              "1950295261456"
            ]
          },
          "metadata": {},
          "execution_count": 18
        }
      ]
    },
    {
      "cell_type": "code",
      "source": [
        "a += 998\n",
        "a"
      ],
      "metadata": {
        "id": "QNRTdMOn4Rwl",
        "outputId": "8aa66a31-00a2-480f-e4a3-a633da887ce9",
        "colab": {
          "base_uri": "https://localhost:8080/"
        }
      },
      "execution_count": 25,
      "outputs": [
        {
          "output_type": "execute_result",
          "data": {
            "text/plain": [
              "2098"
            ]
          },
          "metadata": {},
          "execution_count": 25
        }
      ]
    },
    {
      "cell_type": "code",
      "source": [
        "id(a)"
      ],
      "metadata": {
        "id": "LPeiwsx84ULa",
        "outputId": "002d3fd0-be8c-4117-eca1-bf81bcef1f63",
        "colab": {
          "base_uri": "https://localhost:8080/"
        }
      },
      "execution_count": 26,
      "outputs": [
        {
          "output_type": "execute_result",
          "data": {
            "text/plain": [
              "1950394618320"
            ]
          },
          "metadata": {},
          "execution_count": 26
        }
      ]
    },
    {
      "cell_type": "code",
      "source": [
        "a += 100"
      ],
      "metadata": {
        "id": "TDGdger55UEL"
      },
      "execution_count": 22,
      "outputs": []
    },
    {
      "cell_type": "code",
      "source": [
        "id(a)"
      ],
      "metadata": {
        "colab": {
          "base_uri": "https://localhost:8080/"
        },
        "id": "gsgM6b-b5c7w",
        "outputId": "468f537a-a988-4537-df29-dcd8ef7e68c1"
      },
      "execution_count": 23,
      "outputs": [
        {
          "output_type": "execute_result",
          "data": {
            "text/plain": [
              "1950394616848"
            ]
          },
          "metadata": {},
          "execution_count": 23
        }
      ]
    },
    {
      "cell_type": "code",
      "metadata": {
        "id": "iS1QUmDTvkp9",
        "outputId": "60c4de72-77b9-4c7a-d47f-e312cb028839",
        "colab": {
          "base_uri": "https://localhost:8080/"
        }
      },
      "source": [
        "id(1000)"
      ],
      "execution_count": 21,
      "outputs": [
        {
          "output_type": "execute_result",
          "data": {
            "text/plain": [
              "1950394616656"
            ]
          },
          "metadata": {},
          "execution_count": 21
        }
      ]
    },
    {
      "cell_type": "code",
      "metadata": {
        "id": "jnl06L7hvnZN",
        "outputId": "e48e4d86-5575-4b7e-cbe3-b5938ca096fa",
        "colab": {
          "base_uri": "https://localhost:8080/"
        }
      },
      "source": [
        "b = 1000\n",
        "id(b)"
      ],
      "execution_count": null,
      "outputs": [
        {
          "output_type": "execute_result",
          "data": {
            "text/plain": [
              "1616398609488"
            ]
          },
          "metadata": {},
          "execution_count": 13
        }
      ]
    },
    {
      "cell_type": "code",
      "source": [
        "id(255)"
      ],
      "metadata": {
        "id": "Ex0UmaiU4e9F",
        "outputId": "81a26da2-1fd9-427d-b218-0101412b491c",
        "colab": {
          "base_uri": "https://localhost:8080/"
        }
      },
      "execution_count": 27,
      "outputs": [
        {
          "output_type": "execute_result",
          "data": {
            "text/plain": [
              "1950295269552"
            ]
          },
          "metadata": {},
          "execution_count": 27
        }
      ]
    },
    {
      "cell_type": "code",
      "source": [
        "a = a // 4 + 5\n",
        "a = 255\n",
        "a"
      ],
      "metadata": {
        "id": "ONclSIIV4hJz",
        "outputId": "eda68adc-e701-45fd-aade-2517d6d0d75b",
        "colab": {
          "base_uri": "https://localhost:8080/"
        }
      },
      "execution_count": 29,
      "outputs": [
        {
          "output_type": "execute_result",
          "data": {
            "text/plain": [
              "255"
            ]
          },
          "metadata": {},
          "execution_count": 29
        }
      ]
    },
    {
      "cell_type": "code",
      "source": [
        "id(a)"
      ],
      "metadata": {
        "id": "Nzal-J-V4qds",
        "outputId": "71ad23f4-070a-442f-e49d-0590ad7e887e",
        "colab": {
          "base_uri": "https://localhost:8080/"
        }
      },
      "execution_count": 30,
      "outputs": [
        {
          "output_type": "execute_result",
          "data": {
            "text/plain": [
              "1950295269552"
            ]
          },
          "metadata": {},
          "execution_count": 30
        }
      ]
    },
    {
      "cell_type": "code",
      "source": [
        "string1 = \"abcdef\""
      ],
      "metadata": {
        "id": "JThrRi-14ycA"
      },
      "execution_count": null,
      "outputs": []
    },
    {
      "cell_type": "code",
      "source": [
        "string2 = \"цуацаан\""
      ],
      "metadata": {
        "id": "Hd3rnDu95T9h"
      },
      "execution_count": null,
      "outputs": []
    },
    {
      "cell_type": "code",
      "source": [
        "import sys\n",
        "print(sys.getsizeof(string1))\n",
        "print(sys.getsizeof(string2))"
      ],
      "metadata": {
        "id": "YaOb53xf5sEt",
        "outputId": "8d819174-775d-42d0-a79c-00bb0258ea15",
        "colab": {
          "base_uri": "https://localhost:8080/"
        }
      },
      "execution_count": null,
      "outputs": [
        {
          "output_type": "stream",
          "name": "stdout",
          "text": [
            "55\n",
            "88\n"
          ]
        }
      ]
    },
    {
      "cell_type": "markdown",
      "metadata": {
        "id": "Ov9rOMFtTQ_E"
      },
      "source": [
        "## Логические операции\n",
        "\n",
        "* Равно (==)\n",
        "* Меньше (<)\n",
        "* Больше (>)\n",
        "* Не равно (!=)\n",
        "\n",
        "Результат логических операций — тип bool (True или False)."
      ]
    },
    {
      "cell_type": "code",
      "metadata": {
        "id": "BOjbUPnaTQ_E"
      },
      "source": [
        "x = 2\n",
        "y = 3"
      ],
      "execution_count": 31,
      "outputs": []
    },
    {
      "cell_type": "code",
      "metadata": {
        "id": "mM6TMkW1TQ_E",
        "outputId": "c3927aa9-ec96-46e4-8c29-63b6cb8ac143",
        "colab": {
          "base_uri": "https://localhost:8080/"
        }
      },
      "source": [
        "x != 2"
      ],
      "execution_count": 32,
      "outputs": [
        {
          "output_type": "execute_result",
          "data": {
            "text/plain": [
              "False"
            ]
          },
          "metadata": {},
          "execution_count": 32
        }
      ]
    },
    {
      "cell_type": "code",
      "source": [
        "x < y"
      ],
      "metadata": {
        "colab": {
          "base_uri": "https://localhost:8080/"
        },
        "id": "95y-5Kdo6OGU",
        "outputId": "a459f1dc-5990-4859-f033-880e056b748f"
      },
      "execution_count": 33,
      "outputs": [
        {
          "output_type": "execute_result",
          "data": {
            "text/plain": [
              "True"
            ]
          },
          "metadata": {},
          "execution_count": 33
        }
      ]
    },
    {
      "cell_type": "code",
      "source": [
        "x != y"
      ],
      "metadata": {
        "colab": {
          "base_uri": "https://localhost:8080/"
        },
        "id": "rd3kvSQq6Pa5",
        "outputId": "cc1801b4-f557-41da-d309-f3b3391a86b0"
      },
      "execution_count": 34,
      "outputs": [
        {
          "output_type": "execute_result",
          "data": {
            "text/plain": [
              "True"
            ]
          },
          "metadata": {},
          "execution_count": 34
        }
      ]
    },
    {
      "cell_type": "code",
      "metadata": {
        "id": "2Q5aJDugTQ_F",
        "outputId": "60e53943-2618-4b5a-9759-f327414297c6",
        "colab": {
          "base_uri": "https://localhost:8080/"
        }
      },
      "source": [
        "5 <= 7"
      ],
      "execution_count": 35,
      "outputs": [
        {
          "output_type": "execute_result",
          "data": {
            "text/plain": [
              "True"
            ]
          },
          "metadata": {},
          "execution_count": 35
        }
      ]
    },
    {
      "cell_type": "code",
      "metadata": {
        "id": "-BHLvUvUTQ_F",
        "outputId": "c6715486-c236-4baf-b682-5717782f2e2b",
        "colab": {
          "base_uri": "https://localhost:8080/"
        }
      },
      "source": [
        "x < y"
      ],
      "execution_count": null,
      "outputs": [
        {
          "output_type": "execute_result",
          "data": {
            "text/plain": [
              "True"
            ]
          },
          "metadata": {},
          "execution_count": 35
        }
      ]
    },
    {
      "cell_type": "markdown",
      "metadata": {
        "id": "vr6gJX_UTQ_F"
      },
      "source": [
        "В Python есть возможность производить двойные сравнения:"
      ]
    },
    {
      "cell_type": "code",
      "metadata": {
        "id": "wlj1TIqgTQ_F",
        "outputId": "d1c54cb4-5bca-49f9-eeb2-0547dd07a54a",
        "colab": {
          "base_uri": "https://localhost:8080/"
        }
      },
      "source": [
        "# эквивалентно (1 < 2) and (2 < 3)\n",
        "1 < x < 3"
      ],
      "execution_count": 36,
      "outputs": [
        {
          "output_type": "execute_result",
          "data": {
            "text/plain": [
              "True"
            ]
          },
          "metadata": {},
          "execution_count": 36
        }
      ]
    },
    {
      "cell_type": "code",
      "metadata": {
        "id": "Z7W_XT6hTQ_F",
        "outputId": "22abfca7-b75c-488c-da71-f110450d85ec",
        "colab": {
          "base_uri": "https://localhost:8080/"
        }
      },
      "source": [
        "2 + 2 == 4"
      ],
      "execution_count": 37,
      "outputs": [
        {
          "output_type": "execute_result",
          "data": {
            "text/plain": [
              "True"
            ]
          },
          "metadata": {},
          "execution_count": 37
        }
      ]
    },
    {
      "cell_type": "code",
      "metadata": {
        "id": "5p7c8ij1TQ_G",
        "outputId": "181b088f-e567-4cca-9975-828c70e549ca",
        "colab": {
          "base_uri": "https://localhost:8080/"
        }
      },
      "source": [
        "2 + 2 == 5"
      ],
      "execution_count": 38,
      "outputs": [
        {
          "output_type": "execute_result",
          "data": {
            "text/plain": [
              "False"
            ]
          },
          "metadata": {},
          "execution_count": 38
        }
      ]
    },
    {
      "cell_type": "code",
      "metadata": {
        "id": "j3nSsF8yTQ_G",
        "outputId": "df3aec8c-eb85-404c-bcdf-55863d82724b",
        "colab": {
          "base_uri": "https://localhost:8080/"
        }
      },
      "source": [
        "x = 5\n",
        "x < 8"
      ],
      "execution_count": null,
      "outputs": [
        {
          "output_type": "execute_result",
          "data": {
            "text/plain": [
              "True"
            ]
          },
          "metadata": {},
          "execution_count": 40
        }
      ]
    },
    {
      "cell_type": "code",
      "source": [
        "x"
      ],
      "metadata": {
        "colab": {
          "base_uri": "https://localhost:8080/"
        },
        "id": "MpNSS1sH8gUX",
        "outputId": "608ee43a-328a-4b51-8cfe-9dcfe89805fb"
      },
      "execution_count": 60,
      "outputs": [
        {
          "output_type": "execute_result",
          "data": {
            "text/plain": [
              "2"
            ]
          },
          "metadata": {},
          "execution_count": 60
        }
      ]
    },
    {
      "cell_type": "code",
      "source": [
        "y"
      ],
      "metadata": {
        "colab": {
          "base_uri": "https://localhost:8080/"
        },
        "id": "9b5DRrkg8ik3",
        "outputId": "491057f7-1005-4ddb-9895-594af2da560d"
      },
      "execution_count": 61,
      "outputs": [
        {
          "output_type": "execute_result",
          "data": {
            "text/plain": [
              "3"
            ]
          },
          "metadata": {},
          "execution_count": 61
        }
      ]
    },
    {
      "cell_type": "code",
      "source": [
        "type(x)"
      ],
      "metadata": {
        "id": "i4LuLCiP8iAY",
        "outputId": "99e6862b-c5dd-4930-e53a-fa5811d94315",
        "colab": {
          "base_uri": "https://localhost:8080/"
        }
      },
      "execution_count": null,
      "outputs": [
        {
          "output_type": "execute_result",
          "data": {
            "text/plain": [
              "int"
            ]
          },
          "metadata": {},
          "execution_count": 43
        }
      ]
    },
    {
      "cell_type": "code",
      "source": [
        "type(7)"
      ],
      "metadata": {
        "id": "Ay5R8v0C8kW4",
        "outputId": "75b59b78-66b2-4baf-c043-50f129eb3531",
        "colab": {
          "base_uri": "https://localhost:8080/"
        }
      },
      "execution_count": null,
      "outputs": [
        {
          "output_type": "execute_result",
          "data": {
            "text/plain": [
              "int"
            ]
          },
          "metadata": {},
          "execution_count": 44
        }
      ]
    },
    {
      "cell_type": "code",
      "source": [
        "x < y"
      ],
      "metadata": {
        "colab": {
          "base_uri": "https://localhost:8080/"
        },
        "id": "LDzCVT5A7uJ3",
        "outputId": "55b57a5c-f1dc-447a-a4e9-9560264766be"
      },
      "execution_count": 52,
      "outputs": [
        {
          "output_type": "execute_result",
          "data": {
            "text/plain": [
              "True"
            ]
          },
          "metadata": {},
          "execution_count": 52
        }
      ]
    },
    {
      "cell_type": "code",
      "source": [
        "8"
      ],
      "metadata": {
        "colab": {
          "base_uri": "https://localhost:8080/"
        },
        "id": "TfWmvOUi7y7w",
        "outputId": "53909e05-a203-4b02-e998-fc4d2b4f95a8"
      },
      "execution_count": 49,
      "outputs": [
        {
          "output_type": "execute_result",
          "data": {
            "text/plain": [
              "8"
            ]
          },
          "metadata": {},
          "execution_count": 49
        }
      ]
    },
    {
      "cell_type": "code",
      "source": [
        "b = 8 + 4\n",
        "b"
      ],
      "metadata": {
        "colab": {
          "base_uri": "https://localhost:8080/"
        },
        "id": "kPBdDmIo70SC",
        "outputId": "79a56b7d-c0eb-4589-8cc4-ba4f8770b358"
      },
      "execution_count": 51,
      "outputs": [
        {
          "output_type": "execute_result",
          "data": {
            "text/plain": [
              "12"
            ]
          },
          "metadata": {},
          "execution_count": 51
        }
      ]
    },
    {
      "cell_type": "code",
      "source": [
        "a = x < 7"
      ],
      "metadata": {
        "id": "czVkzdKZ8dns"
      },
      "execution_count": 53,
      "outputs": []
    },
    {
      "cell_type": "code",
      "source": [
        "x < y < 7"
      ],
      "metadata": {
        "colab": {
          "base_uri": "https://localhost:8080/"
        },
        "id": "utbPHVjC8MAl",
        "outputId": "01ec99f8-10ef-404f-c765-02173db187c0"
      },
      "execution_count": 55,
      "outputs": [
        {
          "output_type": "execute_result",
          "data": {
            "text/plain": [
              "True"
            ]
          },
          "metadata": {},
          "execution_count": 55
        }
      ]
    },
    {
      "cell_type": "code",
      "source": [
        "c = x < y > 7"
      ],
      "metadata": {
        "id": "JmE3XSiV8OgR"
      },
      "execution_count": 58,
      "outputs": []
    },
    {
      "cell_type": "code",
      "source": [
        "c"
      ],
      "metadata": {
        "colab": {
          "base_uri": "https://localhost:8080/"
        },
        "id": "p1X00rz08QFM",
        "outputId": "ea162513-f55f-4d66-a328-c2d5da9e3a5f"
      },
      "execution_count": 59,
      "outputs": [
        {
          "output_type": "execute_result",
          "data": {
            "text/plain": [
              "False"
            ]
          },
          "metadata": {},
          "execution_count": 59
        }
      ]
    },
    {
      "cell_type": "code",
      "source": [
        "a"
      ],
      "metadata": {
        "colab": {
          "base_uri": "https://localhost:8080/"
        },
        "id": "4JCc5WpV8EGI",
        "outputId": "abb94fcd-b69d-4585-c99e-5a1b7d354de8"
      },
      "execution_count": 54,
      "outputs": [
        {
          "output_type": "execute_result",
          "data": {
            "text/plain": [
              "True"
            ]
          },
          "metadata": {},
          "execution_count": 54
        }
      ]
    },
    {
      "cell_type": "code",
      "source": [
        "id(True)"
      ],
      "metadata": {
        "id": "EylGjH8w82TF",
        "outputId": "9918a866-bb22-4dca-9c76-abd30d0ddfe3",
        "colab": {
          "base_uri": "https://localhost:8080/"
        }
      },
      "execution_count": null,
      "outputs": [
        {
          "output_type": "execute_result",
          "data": {
            "text/plain": [
              "140720719182696"
            ]
          },
          "metadata": {},
          "execution_count": 46
        }
      ]
    },
    {
      "cell_type": "code",
      "source": [
        "type(a)"
      ],
      "metadata": {
        "id": "DW8n7PN_8nhF",
        "outputId": "a2d2932f-74c5-48f2-e456-6155e7387aee",
        "colab": {
          "base_uri": "https://localhost:8080/"
        }
      },
      "execution_count": 40,
      "outputs": [
        {
          "output_type": "execute_result",
          "data": {
            "text/plain": [
              "bool"
            ]
          },
          "metadata": {},
          "execution_count": 40
        }
      ]
    },
    {
      "cell_type": "code",
      "source": [
        "a"
      ],
      "metadata": {
        "id": "lL8CWHOI8fWk",
        "outputId": "ee7f044a-8eb8-437f-c582-516d9bb97d2e",
        "colab": {
          "base_uri": "https://localhost:8080/"
        }
      },
      "execution_count": 41,
      "outputs": [
        {
          "output_type": "execute_result",
          "data": {
            "text/plain": [
              "True"
            ]
          },
          "metadata": {},
          "execution_count": 41
        }
      ]
    },
    {
      "cell_type": "code",
      "source": [
        "id(a)"
      ],
      "metadata": {
        "id": "WqW1bRK184t-",
        "outputId": "8d654c85-17d6-4251-c98f-7ef47b02c40d",
        "colab": {
          "base_uri": "https://localhost:8080/"
        }
      },
      "execution_count": null,
      "outputs": [
        {
          "output_type": "execute_result",
          "data": {
            "text/plain": [
              "140720719182696"
            ]
          },
          "metadata": {},
          "execution_count": 47
        }
      ]
    },
    {
      "cell_type": "markdown",
      "source": [
        "## Условный оператор"
      ],
      "metadata": {
        "id": "hFP_rwaIxctT"
      }
    },
    {
      "cell_type": "code",
      "source": [
        "# Prompt the user for a number\n",
        "number = int(input(\"Enter a number: \"))\n",
        "\n",
        "# Check if the number is even\n",
        "if number % 2 == 0:\n",
        "    # Print a message that the number is even\n",
        "    print(\"The number {} is even.\".format(number))\n",
        "    if number > 100:\n",
        "        print(\"The number {} is bigger than 100.\".format(number))\n",
        "    else:\n",
        "        print(\"The number {} is smaller than 100.\".format(number))\n",
        "else:\n",
        "    # Print a message that the number is odd\n",
        "    print(\"The number {} is odd.\".format(number))"
      ],
      "metadata": {
        "id": "XCMeQFERxhPK",
        "colab": {
          "base_uri": "https://localhost:8080/",
          "height": 262
        },
        "outputId": "c09543c8-1af6-43f4-d324-43baeabcd621"
      },
      "execution_count": 76,
      "outputs": [
        {
          "name": "stdout",
          "output_type": "stream",
          "text": [
            "Enter a number: 2343.2343\n"
          ]
        },
        {
          "output_type": "error",
          "ename": "ValueError",
          "evalue": "ignored",
          "traceback": [
            "\u001b[1;31m---------------------------------------------------------------------------\u001b[0m",
            "\u001b[1;31mValueError\u001b[0m                                Traceback (most recent call last)",
            "\u001b[1;32mC:\\Temp/ipykernel_12712/115829858.py\u001b[0m in \u001b[0;36m<module>\u001b[1;34m\u001b[0m\n\u001b[0;32m      1\u001b[0m \u001b[1;31m# Prompt the user for a number\u001b[0m\u001b[1;33m\u001b[0m\u001b[1;33m\u001b[0m\u001b[0m\n\u001b[1;32m----> 2\u001b[1;33m \u001b[0mnumber\u001b[0m \u001b[1;33m=\u001b[0m \u001b[0mint\u001b[0m\u001b[1;33m(\u001b[0m\u001b[0minput\u001b[0m\u001b[1;33m(\u001b[0m\u001b[1;34m\"Enter a number: \"\u001b[0m\u001b[1;33m)\u001b[0m\u001b[1;33m)\u001b[0m\u001b[1;33m\u001b[0m\u001b[1;33m\u001b[0m\u001b[0m\n\u001b[0m\u001b[0;32m      3\u001b[0m \u001b[1;33m\u001b[0m\u001b[0m\n\u001b[0;32m      4\u001b[0m \u001b[1;31m# Check if the number is even\u001b[0m\u001b[1;33m\u001b[0m\u001b[1;33m\u001b[0m\u001b[0m\n\u001b[0;32m      5\u001b[0m \u001b[1;32mif\u001b[0m \u001b[0mnumber\u001b[0m \u001b[1;33m%\u001b[0m \u001b[1;36m2\u001b[0m \u001b[1;33m==\u001b[0m \u001b[1;36m0\u001b[0m\u001b[1;33m:\u001b[0m\u001b[1;33m\u001b[0m\u001b[1;33m\u001b[0m\u001b[0m\n",
            "\u001b[1;31mValueError\u001b[0m: invalid literal for int() with base 10: '2343.2343'"
          ]
        }
      ]
    },
    {
      "cell_type": "code",
      "source": [
        "help('FORMATTING')"
      ],
      "metadata": {
        "colab": {
          "base_uri": "https://localhost:8080/"
        },
        "id": "gcMqkivR-pDI",
        "outputId": "c503a1f4-455c-4377-8292-d9285fff2dd6"
      },
      "execution_count": 75,
      "outputs": [
        {
          "output_type": "stream",
          "name": "stdout",
          "text": [
            "Format String Syntax\n",
            "********************\n",
            "\n",
            "The \"str.format()\" method and the \"Formatter\" class share the same\n",
            "syntax for format strings (although in the case of \"Formatter\",\n",
            "subclasses can define their own format string syntax).  The syntax is\n",
            "related to that of formatted string literals, but it is less\n",
            "sophisticated and, in particular, does not support arbitrary\n",
            "expressions.\n",
            "\n",
            "Format strings contain “replacement fields” surrounded by curly braces\n",
            "\"{}\". Anything that is not contained in braces is considered literal\n",
            "text, which is copied unchanged to the output.  If you need to include\n",
            "a brace character in the literal text, it can be escaped by doubling:\n",
            "\"{{\" and \"}}\".\n",
            "\n",
            "The grammar for a replacement field is as follows:\n",
            "\n",
            "      replacement_field ::= \"{\" [field_name] [\"!\" conversion] [\":\" format_spec] \"}\"\n",
            "      field_name        ::= arg_name (\".\" attribute_name | \"[\" element_index \"]\")*\n",
            "      arg_name          ::= [identifier | digit+]\n",
            "      attribute_name    ::= identifier\n",
            "      element_index     ::= digit+ | index_string\n",
            "      index_string      ::= <any source character except \"]\"> +\n",
            "      conversion        ::= \"r\" | \"s\" | \"a\"\n",
            "      format_spec       ::= <described in the next section>\n",
            "\n",
            "In less formal terms, the replacement field can start with a\n",
            "*field_name* that specifies the object whose value is to be formatted\n",
            "and inserted into the output instead of the replacement field. The\n",
            "*field_name* is optionally followed by a  *conversion* field, which is\n",
            "preceded by an exclamation point \"'!'\", and a *format_spec*, which is\n",
            "preceded by a colon \"':'\".  These specify a non-default format for the\n",
            "replacement value.\n",
            "\n",
            "See also the Format Specification Mini-Language section.\n",
            "\n",
            "The *field_name* itself begins with an *arg_name* that is either a\n",
            "number or a keyword.  If it’s a number, it refers to a positional\n",
            "argument, and if it’s a keyword, it refers to a named keyword\n",
            "argument.  If the numerical arg_names in a format string are 0, 1, 2,\n",
            "… in sequence, they can all be omitted (not just some) and the numbers\n",
            "0, 1, 2, … will be automatically inserted in that order. Because\n",
            "*arg_name* is not quote-delimited, it is not possible to specify\n",
            "arbitrary dictionary keys (e.g., the strings \"'10'\" or \"':-]'\") within\n",
            "a format string. The *arg_name* can be followed by any number of index\n",
            "or attribute expressions. An expression of the form \"'.name'\" selects\n",
            "the named attribute using \"getattr()\", while an expression of the form\n",
            "\"'[index]'\" does an index lookup using \"__getitem__()\".\n",
            "\n",
            "Changed in version 3.1: The positional argument specifiers can be\n",
            "omitted for \"str.format()\", so \"'{} {}'.format(a, b)\" is equivalent to\n",
            "\"'{0} {1}'.format(a, b)\".\n",
            "\n",
            "Changed in version 3.4: The positional argument specifiers can be\n",
            "omitted for \"Formatter\".\n",
            "\n",
            "Some simple format string examples:\n",
            "\n",
            "   \"First, thou shalt count to {0}\"  # References first positional argument\n",
            "   \"Bring me a {}\"                   # Implicitly references the first positional argument\n",
            "   \"From {} to {}\"                   # Same as \"From {0} to {1}\"\n",
            "   \"My quest is {name}\"              # References keyword argument 'name'\n",
            "   \"Weight in tons {0.weight}\"       # 'weight' attribute of first positional arg\n",
            "   \"Units destroyed: {players[0]}\"   # First element of keyword argument 'players'.\n",
            "\n",
            "The *conversion* field causes a type coercion before formatting.\n",
            "Normally, the job of formatting a value is done by the \"__format__()\"\n",
            "method of the value itself.  However, in some cases it is desirable to\n",
            "force a type to be formatted as a string, overriding its own\n",
            "definition of formatting.  By converting the value to a string before\n",
            "calling \"__format__()\", the normal formatting logic is bypassed.\n",
            "\n",
            "Three conversion flags are currently supported: \"'!s'\" which calls\n",
            "\"str()\" on the value, \"'!r'\" which calls \"repr()\" and \"'!a'\" which\n",
            "calls \"ascii()\".\n",
            "\n",
            "Some examples:\n",
            "\n",
            "   \"Harold's a clever {0!s}\"        # Calls str() on the argument first\n",
            "   \"Bring out the holy {name!r}\"    # Calls repr() on the argument first\n",
            "   \"More {!a}\"                      # Calls ascii() on the argument first\n",
            "\n",
            "The *format_spec* field contains a specification of how the value\n",
            "should be presented, including such details as field width, alignment,\n",
            "padding, decimal precision and so on.  Each value type can define its\n",
            "own “formatting mini-language” or interpretation of the *format_spec*.\n",
            "\n",
            "Most built-in types support a common formatting mini-language, which\n",
            "is described in the next section.\n",
            "\n",
            "A *format_spec* field can also include nested replacement fields\n",
            "within it. These nested replacement fields may contain a field name,\n",
            "conversion flag and format specification, but deeper nesting is not\n",
            "allowed.  The replacement fields within the format_spec are\n",
            "substituted before the *format_spec* string is interpreted. This\n",
            "allows the formatting of a value to be dynamically specified.\n",
            "\n",
            "See the Format examples section for some examples.\n",
            "\n",
            "\n",
            "Format Specification Mini-Language\n",
            "==================================\n",
            "\n",
            "“Format specifications” are used within replacement fields contained\n",
            "within a format string to define how individual values are presented\n",
            "(see Format String Syntax and Formatted string literals). They can\n",
            "also be passed directly to the built-in \"format()\" function.  Each\n",
            "formattable type may define how the format specification is to be\n",
            "interpreted.\n",
            "\n",
            "Most built-in types implement the following options for format\n",
            "specifications, although some of the formatting options are only\n",
            "supported by the numeric types.\n",
            "\n",
            "A general convention is that an empty format specification produces\n",
            "the same result as if you had called \"str()\" on the value. A non-empty\n",
            "format specification typically modifies the result.\n",
            "\n",
            "The general form of a *standard format specifier* is:\n",
            "\n",
            "   format_spec     ::= [[fill]align][sign][#][0][width][grouping_option][.precision][type]\n",
            "   fill            ::= <any character>\n",
            "   align           ::= \"<\" | \">\" | \"=\" | \"^\"\n",
            "   sign            ::= \"+\" | \"-\" | \" \"\n",
            "   width           ::= digit+\n",
            "   grouping_option ::= \"_\" | \",\"\n",
            "   precision       ::= digit+\n",
            "   type            ::= \"b\" | \"c\" | \"d\" | \"e\" | \"E\" | \"f\" | \"F\" | \"g\" | \"G\" | \"n\" | \"o\" | \"s\" | \"x\" | \"X\" | \"%\"\n",
            "\n",
            "If a valid *align* value is specified, it can be preceded by a *fill*\n",
            "character that can be any character and defaults to a space if\n",
            "omitted. It is not possible to use a literal curly brace (”\"{\"” or\n",
            "“\"}\"”) as the *fill* character in a formatted string literal or when\n",
            "using the \"str.format()\" method.  However, it is possible to insert a\n",
            "curly brace with a nested replacement field.  This limitation doesn’t\n",
            "affect the \"format()\" function.\n",
            "\n",
            "The meaning of the various alignment options is as follows:\n",
            "\n",
            "   +-----------+------------------------------------------------------------+\n",
            "   | Option    | Meaning                                                    |\n",
            "   |===========|============================================================|\n",
            "   | \"'<'\"     | Forces the field to be left-aligned within the available   |\n",
            "   |           | space (this is the default for most objects).              |\n",
            "   +-----------+------------------------------------------------------------+\n",
            "   | \"'>'\"     | Forces the field to be right-aligned within the available  |\n",
            "   |           | space (this is the default for numbers).                   |\n",
            "   +-----------+------------------------------------------------------------+\n",
            "   | \"'='\"     | Forces the padding to be placed after the sign (if any)    |\n",
            "   |           | but before the digits.  This is used for printing fields   |\n",
            "   |           | in the form ‘+000000120’. This alignment option is only    |\n",
            "   |           | valid for numeric types.  It becomes the default for       |\n",
            "   |           | numbers when ‘0’ immediately precedes the field width.     |\n",
            "   +-----------+------------------------------------------------------------+\n",
            "   | \"'^'\"     | Forces the field to be centered within the available       |\n",
            "   |           | space.                                                     |\n",
            "   +-----------+------------------------------------------------------------+\n",
            "\n",
            "Note that unless a minimum field width is defined, the field width\n",
            "will always be the same size as the data to fill it, so that the\n",
            "alignment option has no meaning in this case.\n",
            "\n",
            "The *sign* option is only valid for number types, and can be one of\n",
            "the following:\n",
            "\n",
            "   +-----------+------------------------------------------------------------+\n",
            "   | Option    | Meaning                                                    |\n",
            "   |===========|============================================================|\n",
            "   | \"'+'\"     | indicates that a sign should be used for both positive as  |\n",
            "   |           | well as negative numbers.                                  |\n",
            "   +-----------+------------------------------------------------------------+\n",
            "   | \"'-'\"     | indicates that a sign should be used only for negative     |\n",
            "   |           | numbers (this is the default behavior).                    |\n",
            "   +-----------+------------------------------------------------------------+\n",
            "   | space     | indicates that a leading space should be used on positive  |\n",
            "   |           | numbers, and a minus sign on negative numbers.             |\n",
            "   +-----------+------------------------------------------------------------+\n",
            "\n",
            "The \"'#'\" option causes the “alternate form” to be used for the\n",
            "conversion.  The alternate form is defined differently for different\n",
            "types.  This option is only valid for integer, float and complex\n",
            "types. For integers, when binary, octal, or hexadecimal output is\n",
            "used, this option adds the respective prefix \"'0b'\", \"'0o'\", \"'0x'\",\n",
            "or \"'0X'\" to the output value. For float and complex the alternate\n",
            "form causes the result of the conversion to always contain a decimal-\n",
            "point character, even if no digits follow it. Normally, a decimal-\n",
            "point character appears in the result of these conversions only if a\n",
            "digit follows it. In addition, for \"'g'\" and \"'G'\" conversions,\n",
            "trailing zeros are not removed from the result.\n",
            "\n",
            "The \"','\" option signals the use of a comma for a thousands separator.\n",
            "For a locale aware separator, use the \"'n'\" integer presentation type\n",
            "instead.\n",
            "\n",
            "Changed in version 3.1: Added the \"','\" option (see also **PEP 378**).\n",
            "\n",
            "The \"'_'\" option signals the use of an underscore for a thousands\n",
            "separator for floating point presentation types and for integer\n",
            "presentation type \"'d'\".  For integer presentation types \"'b'\", \"'o'\",\n",
            "\"'x'\", and \"'X'\", underscores will be inserted every 4 digits.  For\n",
            "other presentation types, specifying this option is an error.\n",
            "\n",
            "Changed in version 3.6: Added the \"'_'\" option (see also **PEP 515**).\n",
            "\n",
            "*width* is a decimal integer defining the minimum total field width,\n",
            "including any prefixes, separators, and other formatting characters.\n",
            "If not specified, then the field width will be determined by the\n",
            "content.\n",
            "\n",
            "When no explicit alignment is given, preceding the *width* field by a\n",
            "zero (\"'0'\") character enables sign-aware zero-padding for numeric\n",
            "types.  This is equivalent to a *fill* character of \"'0'\" with an\n",
            "*alignment* type of \"'='\".\n",
            "\n",
            "Changed in version 3.10: Preceding the *width* field by \"'0'\" no\n",
            "longer affects the default alignment for strings.\n",
            "\n",
            "The *precision* is a decimal number indicating how many digits should\n",
            "be displayed after the decimal point for a floating point value\n",
            "formatted with \"'f'\" and \"'F'\", or before and after the decimal point\n",
            "for a floating point value formatted with \"'g'\" or \"'G'\".  For non-\n",
            "number types the field indicates the maximum field size - in other\n",
            "words, how many characters will be used from the field content. The\n",
            "*precision* is not allowed for integer values.\n",
            "\n",
            "Finally, the *type* determines how the data should be presented.\n",
            "\n",
            "The available string presentation types are:\n",
            "\n",
            "   +-----------+------------------------------------------------------------+\n",
            "   | Type      | Meaning                                                    |\n",
            "   |===========|============================================================|\n",
            "   | \"'s'\"     | String format. This is the default type for strings and    |\n",
            "   |           | may be omitted.                                            |\n",
            "   +-----------+------------------------------------------------------------+\n",
            "   | None      | The same as \"'s'\".                                         |\n",
            "   +-----------+------------------------------------------------------------+\n",
            "\n",
            "The available integer presentation types are:\n",
            "\n",
            "   +-----------+------------------------------------------------------------+\n",
            "   | Type      | Meaning                                                    |\n",
            "   |===========|============================================================|\n",
            "   | \"'b'\"     | Binary format. Outputs the number in base 2.               |\n",
            "   +-----------+------------------------------------------------------------+\n",
            "   | \"'c'\"     | Character. Converts the integer to the corresponding       |\n",
            "   |           | unicode character before printing.                         |\n",
            "   +-----------+------------------------------------------------------------+\n",
            "   | \"'d'\"     | Decimal Integer. Outputs the number in base 10.            |\n",
            "   +-----------+------------------------------------------------------------+\n",
            "   | \"'o'\"     | Octal format. Outputs the number in base 8.                |\n",
            "   +-----------+------------------------------------------------------------+\n",
            "   | \"'x'\"     | Hex format. Outputs the number in base 16, using lower-    |\n",
            "   |           | case letters for the digits above 9.                       |\n",
            "   +-----------+------------------------------------------------------------+\n",
            "   | \"'X'\"     | Hex format. Outputs the number in base 16, using upper-    |\n",
            "   |           | case letters for the digits above 9. In case \"'#'\" is      |\n",
            "   |           | specified, the prefix \"'0x'\" will be upper-cased to \"'0X'\" |\n",
            "   |           | as well.                                                   |\n",
            "   +-----------+------------------------------------------------------------+\n",
            "   | \"'n'\"     | Number. This is the same as \"'d'\", except that it uses the |\n",
            "   |           | current locale setting to insert the appropriate number    |\n",
            "   |           | separator characters.                                      |\n",
            "   +-----------+------------------------------------------------------------+\n",
            "   | None      | The same as \"'d'\".                                         |\n",
            "   +-----------+------------------------------------------------------------+\n",
            "\n",
            "In addition to the above presentation types, integers can be formatted\n",
            "with the floating point presentation types listed below (except \"'n'\"\n",
            "and \"None\"). When doing so, \"float()\" is used to convert the integer\n",
            "to a floating point number before formatting.\n",
            "\n",
            "The available presentation types for \"float\" and \"Decimal\" values are:\n",
            "\n",
            "   +-----------+------------------------------------------------------------+\n",
            "   | Type      | Meaning                                                    |\n",
            "   |===========|============================================================|\n",
            "   | \"'e'\"     | Scientific notation. For a given precision \"p\", formats    |\n",
            "   |           | the number in scientific notation with the letter ‘e’      |\n",
            "   |           | separating the coefficient from the exponent. The          |\n",
            "   |           | coefficient has one digit before and \"p\" digits after the  |\n",
            "   |           | decimal point, for a total of \"p + 1\" significant digits.  |\n",
            "   |           | With no precision given, uses a precision of \"6\" digits    |\n",
            "   |           | after the decimal point for \"float\", and shows all         |\n",
            "   |           | coefficient digits for \"Decimal\". If no digits follow the  |\n",
            "   |           | decimal point, the decimal point is also removed unless    |\n",
            "   |           | the \"#\" option is used.                                    |\n",
            "   +-----------+------------------------------------------------------------+\n",
            "   | \"'E'\"     | Scientific notation. Same as \"'e'\" except it uses an upper |\n",
            "   |           | case ‘E’ as the separator character.                       |\n",
            "   +-----------+------------------------------------------------------------+\n",
            "   | \"'f'\"     | Fixed-point notation. For a given precision \"p\", formats   |\n",
            "   |           | the number as a decimal number with exactly \"p\" digits     |\n",
            "   |           | following the decimal point. With no precision given, uses |\n",
            "   |           | a precision of \"6\" digits after the decimal point for      |\n",
            "   |           | \"float\", and uses a precision large enough to show all     |\n",
            "   |           | coefficient digits for \"Decimal\". If no digits follow the  |\n",
            "   |           | decimal point, the decimal point is also removed unless    |\n",
            "   |           | the \"#\" option is used.                                    |\n",
            "   +-----------+------------------------------------------------------------+\n",
            "   | \"'F'\"     | Fixed-point notation. Same as \"'f'\", but converts \"nan\" to |\n",
            "   |           | \"NAN\" and \"inf\" to \"INF\".                                  |\n",
            "   +-----------+------------------------------------------------------------+\n",
            "   | \"'g'\"     | General format.  For a given precision \"p >= 1\", this      |\n",
            "   |           | rounds the number to \"p\" significant digits and then       |\n",
            "   |           | formats the result in either fixed-point format or in      |\n",
            "   |           | scientific notation, depending on its magnitude. A         |\n",
            "   |           | precision of \"0\" is treated as equivalent to a precision   |\n",
            "   |           | of \"1\".  The precise rules are as follows: suppose that    |\n",
            "   |           | the result formatted with presentation type \"'e'\" and      |\n",
            "   |           | precision \"p-1\" would have exponent \"exp\".  Then, if \"m <= |\n",
            "   |           | exp < p\", where \"m\" is -4 for floats and -6 for            |\n",
            "   |           | \"Decimals\", the number is formatted with presentation type |\n",
            "   |           | \"'f'\" and precision \"p-1-exp\".  Otherwise, the number is   |\n",
            "   |           | formatted with presentation type \"'e'\" and precision       |\n",
            "   |           | \"p-1\". In both cases insignificant trailing zeros are      |\n",
            "   |           | removed from the significand, and the decimal point is     |\n",
            "   |           | also removed if there are no remaining digits following    |\n",
            "   |           | it, unless the \"'#'\" option is used.  With no precision    |\n",
            "   |           | given, uses a precision of \"6\" significant digits for      |\n",
            "   |           | \"float\". For \"Decimal\", the coefficient of the result is   |\n",
            "   |           | formed from the coefficient digits of the value;           |\n",
            "   |           | scientific notation is used for values smaller than \"1e-6\" |\n",
            "   |           | in absolute value and values where the place value of the  |\n",
            "   |           | least significant digit is larger than 1, and fixed-point  |\n",
            "   |           | notation is used otherwise.  Positive and negative         |\n",
            "   |           | infinity, positive and negative zero, and nans, are        |\n",
            "   |           | formatted as \"inf\", \"-inf\", \"0\", \"-0\" and \"nan\"            |\n",
            "   |           | respectively, regardless of the precision.                 |\n",
            "   +-----------+------------------------------------------------------------+\n",
            "   | \"'G'\"     | General format. Same as \"'g'\" except switches to \"'E'\" if  |\n",
            "   |           | the number gets too large. The representations of infinity |\n",
            "   |           | and NaN are uppercased, too.                               |\n",
            "   +-----------+------------------------------------------------------------+\n",
            "   | \"'n'\"     | Number. This is the same as \"'g'\", except that it uses the |\n",
            "   |           | current locale setting to insert the appropriate number    |\n",
            "   |           | separator characters.                                      |\n",
            "   +-----------+------------------------------------------------------------+\n",
            "   | \"'%'\"     | Percentage. Multiplies the number by 100 and displays in   |\n",
            "   |           | fixed (\"'f'\") format, followed by a percent sign.          |\n",
            "   +-----------+------------------------------------------------------------+\n",
            "   | None      | For \"float\" this is the same as \"'g'\", except that when    |\n",
            "   |           | fixed-point notation is used to format the result, it      |\n",
            "   |           | always includes at least one digit past the decimal point. |\n",
            "   |           | The precision used is as large as needed to represent the  |\n",
            "   |           | given value faithfully.  For \"Decimal\", this is the same   |\n",
            "   |           | as either \"'g'\" or \"'G'\" depending on the value of         |\n",
            "   |           | \"context.capitals\" for the current decimal context.  The   |\n",
            "   |           | overall effect is to match the output of \"str()\" as        |\n",
            "   |           | altered by the other format modifiers.                     |\n",
            "   +-----------+------------------------------------------------------------+\n",
            "\n",
            "\n",
            "Format examples\n",
            "===============\n",
            "\n",
            "This section contains examples of the \"str.format()\" syntax and\n",
            "comparison with the old \"%\"-formatting.\n",
            "\n",
            "In most of the cases the syntax is similar to the old \"%\"-formatting,\n",
            "with the addition of the \"{}\" and with \":\" used instead of \"%\". For\n",
            "example, \"'%03.2f'\" can be translated to \"'{:03.2f}'\".\n",
            "\n",
            "The new format syntax also supports new and different options, shown\n",
            "in the following examples.\n",
            "\n",
            "Accessing arguments by position:\n",
            "\n",
            "   >>> '{0}, {1}, {2}'.format('a', 'b', 'c')\n",
            "   'a, b, c'\n",
            "   >>> '{}, {}, {}'.format('a', 'b', 'c')  # 3.1+ only\n",
            "   'a, b, c'\n",
            "   >>> '{2}, {1}, {0}'.format('a', 'b', 'c')\n",
            "   'c, b, a'\n",
            "   >>> '{2}, {1}, {0}'.format(*'abc')      # unpacking argument sequence\n",
            "   'c, b, a'\n",
            "   >>> '{0}{1}{0}'.format('abra', 'cad')   # arguments' indices can be repeated\n",
            "   'abracadabra'\n",
            "\n",
            "Accessing arguments by name:\n",
            "\n",
            "   >>> 'Coordinates: {latitude}, {longitude}'.format(latitude='37.24N', longitude='-115.81W')\n",
            "   'Coordinates: 37.24N, -115.81W'\n",
            "   >>> coord = {'latitude': '37.24N', 'longitude': '-115.81W'}\n",
            "   >>> 'Coordinates: {latitude}, {longitude}'.format(**coord)\n",
            "   'Coordinates: 37.24N, -115.81W'\n",
            "\n",
            "Accessing arguments’ attributes:\n",
            "\n",
            "   >>> c = 3-5j\n",
            "   >>> ('The complex number {0} is formed from the real part {0.real} '\n",
            "   ...  'and the imaginary part {0.imag}.').format(c)\n",
            "   'The complex number (3-5j) is formed from the real part 3.0 and the imaginary part -5.0.'\n",
            "   >>> class Point:\n",
            "   ...     def __init__(self, x, y):\n",
            "   ...         self.x, self.y = x, y\n",
            "   ...     def __str__(self):\n",
            "   ...         return 'Point({self.x}, {self.y})'.format(self=self)\n",
            "   ...\n",
            "   >>> str(Point(4, 2))\n",
            "   'Point(4, 2)'\n",
            "\n",
            "Accessing arguments’ items:\n",
            "\n",
            "   >>> coord = (3, 5)\n",
            "   >>> 'X: {0[0]};  Y: {0[1]}'.format(coord)\n",
            "   'X: 3;  Y: 5'\n",
            "\n",
            "Replacing \"%s\" and \"%r\":\n",
            "\n",
            "   >>> \"repr() shows quotes: {!r}; str() doesn't: {!s}\".format('test1', 'test2')\n",
            "   \"repr() shows quotes: 'test1'; str() doesn't: test2\"\n",
            "\n",
            "Aligning the text and specifying a width:\n",
            "\n",
            "   >>> '{:<30}'.format('left aligned')\n",
            "   'left aligned                  '\n",
            "   >>> '{:>30}'.format('right aligned')\n",
            "   '                 right aligned'\n",
            "   >>> '{:^30}'.format('centered')\n",
            "   '           centered           '\n",
            "   >>> '{:*^30}'.format('centered')  # use '*' as a fill char\n",
            "   '***********centered***********'\n",
            "\n",
            "Replacing \"%+f\", \"%-f\", and \"% f\" and specifying a sign:\n",
            "\n",
            "   >>> '{:+f}; {:+f}'.format(3.14, -3.14)  # show it always\n",
            "   '+3.140000; -3.140000'\n",
            "   >>> '{: f}; {: f}'.format(3.14, -3.14)  # show a space for positive numbers\n",
            "   ' 3.140000; -3.140000'\n",
            "   >>> '{:-f}; {:-f}'.format(3.14, -3.14)  # show only the minus -- same as '{:f}; {:f}'\n",
            "   '3.140000; -3.140000'\n",
            "\n",
            "Replacing \"%x\" and \"%o\" and converting the value to different bases:\n",
            "\n",
            "   >>> # format also supports binary numbers\n",
            "   >>> \"int: {0:d};  hex: {0:x};  oct: {0:o};  bin: {0:b}\".format(42)\n",
            "   'int: 42;  hex: 2a;  oct: 52;  bin: 101010'\n",
            "   >>> # with 0x, 0o, or 0b as prefix:\n",
            "   >>> \"int: {0:d};  hex: {0:#x};  oct: {0:#o};  bin: {0:#b}\".format(42)\n",
            "   'int: 42;  hex: 0x2a;  oct: 0o52;  bin: 0b101010'\n",
            "\n",
            "Using the comma as a thousands separator:\n",
            "\n",
            "   >>> '{:,}'.format(1234567890)\n",
            "   '1,234,567,890'\n",
            "\n",
            "Expressing a percentage:\n",
            "\n",
            "   >>> points = 19\n",
            "   >>> total = 22\n",
            "   >>> 'Correct answers: {:.2%}'.format(points/total)\n",
            "   'Correct answers: 86.36%'\n",
            "\n",
            "Using type-specific formatting:\n",
            "\n",
            "   >>> import datetime\n",
            "   >>> d = datetime.datetime(2010, 7, 4, 12, 15, 58)\n",
            "   >>> '{:%Y-%m-%d %H:%M:%S}'.format(d)\n",
            "   '2010-07-04 12:15:58'\n",
            "\n",
            "Nesting arguments and more complex examples:\n",
            "\n",
            "   >>> for align, text in zip('<^>', ['left', 'center', 'right']):\n",
            "   ...     '{0:{fill}{align}16}'.format(text, fill=align, align=align)\n",
            "   ...\n",
            "   'left<<<<<<<<<<<<'\n",
            "   '^^^^^center^^^^^'\n",
            "   '>>>>>>>>>>>right'\n",
            "   >>>\n",
            "   >>> octets = [192, 168, 0, 1]\n",
            "   >>> '{:02X}{:02X}{:02X}{:02X}'.format(*octets)\n",
            "   'C0A80001'\n",
            "   >>> int(_, 16)\n",
            "   3232235521\n",
            "   >>>\n",
            "   >>> width = 5\n",
            "   >>> for num in range(5,12): \n",
            "   ...     for base in 'dXob':\n",
            "   ...         print('{0:{width}{base}}'.format(num, base=base, width=width), end=' ')\n",
            "   ...     print()\n",
            "   ...\n",
            "       5     5     5   101\n",
            "       6     6     6   110\n",
            "       7     7     7   111\n",
            "       8     8    10  1000\n",
            "       9     9    11  1001\n",
            "      10     A    12  1010\n",
            "      11     B    13  1011\n",
            "\n",
            "Related help topics: OPERATORS\n",
            "\n"
          ]
        }
      ]
    },
    {
      "cell_type": "code",
      "source": [
        "help(format)"
      ],
      "metadata": {
        "colab": {
          "base_uri": "https://localhost:8080/"
        },
        "id": "IaB_Eg8D-err",
        "outputId": "10b06e3c-400f-4167-a4a1-e3b654ee3c41"
      },
      "execution_count": 74,
      "outputs": [
        {
          "output_type": "stream",
          "name": "stdout",
          "text": [
            "Help on built-in function format in module builtins:\n",
            "\n",
            "format(value, format_spec='', /)\n",
            "    Return value.__format__(format_spec)\n",
            "    \n",
            "    format_spec defaults to the empty string.\n",
            "    See the Format Specification Mini-Language section of help('FORMATTING') for\n",
            "    details.\n",
            "\n"
          ]
        }
      ]
    },
    {
      "cell_type": "code",
      "source": [
        "# Prompt the user for the total price of their purchase\n",
        "total_price = float(input(\"Enter the total price of your purchase: \"))\n",
        "\n",
        "# Calculate the discount amount\n",
        "discount_amount = 0\n",
        "if total_price > 50:\n",
        "    discount_amount = total_price * 0.1\n",
        "\n",
        "# Apply the discount to the total price\n",
        "total_price -= discount_amount\n",
        "# total_price = total_price - discount_amount\n",
        "\n",
        "# Print the total price with the discount applied\n",
        "print(\"Your total price after discount is ${:.2f}.\".format(total_price))"
      ],
      "metadata": {
        "id": "TFUrQgfbxkQQ",
        "colab": {
          "base_uri": "https://localhost:8080/"
        },
        "outputId": "da2280cb-f3c9-44ab-d9aa-ea44aaf33b4d"
      },
      "execution_count": 77,
      "outputs": [
        {
          "output_type": "stream",
          "name": "stdout",
          "text": [
            "Enter the total price of your purchase: 248.29438\n",
            "Your total price after discount is $223.46.\n"
          ]
        }
      ]
    },
    {
      "cell_type": "code",
      "source": [
        "# Prompt the user for their password\n",
        "password = input(\"Enter your password: \")\n",
        "\n",
        "# Check if the password is strong enough\n",
        "is_password_strong = False\n",
        "# if len(password) >= 8 and any(char.isdigit() for char in password) and any(char.isalpha() for char in password):\n",
        "#     is_password_strong = True\n",
        "\n",
        "# Print a message indicating whether the password is strong enough\n",
        "if is_password_strong:\n",
        "    print(\"Your password is strong.\")\n",
        "else:\n",
        "    print(\"Your password is not strong enough. It must be at least 8 characters long and contain a mix of letters and numbers.\")"
      ],
      "metadata": {
        "id": "Ap8vBCfUxsag"
      },
      "execution_count": null,
      "outputs": []
    },
    {
      "cell_type": "code",
      "source": [
        "print(x < 5 and y > x)"
      ],
      "metadata": {
        "colab": {
          "base_uri": "https://localhost:8080/"
        },
        "id": "mdHs0BPrAqNV",
        "outputId": "e2dd16bc-c6df-4985-bfce-ad0e4a4196b9"
      },
      "execution_count": 78,
      "outputs": [
        {
          "output_type": "stream",
          "name": "stdout",
          "text": [
            "True\n"
          ]
        }
      ]
    },
    {
      "cell_type": "code",
      "source": [
        "x < 5 and x > y"
      ],
      "metadata": {
        "colab": {
          "base_uri": "https://localhost:8080/"
        },
        "id": "j-3Bc6pRAsKg",
        "outputId": "648ef73b-70dd-4bda-99f7-b58d4d450174"
      },
      "execution_count": 79,
      "outputs": [
        {
          "output_type": "execute_result",
          "data": {
            "text/plain": [
              "False"
            ]
          },
          "metadata": {},
          "execution_count": 79
        }
      ]
    },
    {
      "cell_type": "code",
      "source": [
        "x < 5 and x > y or 10 > 9"
      ],
      "metadata": {
        "colab": {
          "base_uri": "https://localhost:8080/"
        },
        "id": "-u4meYcnAvUN",
        "outputId": "91a9ca90-b2a1-4f17-989f-b087fd049b36"
      },
      "execution_count": 80,
      "outputs": [
        {
          "output_type": "execute_result",
          "data": {
            "text/plain": [
              "True"
            ]
          },
          "metadata": {},
          "execution_count": 80
        }
      ]
    },
    {
      "cell_type": "code",
      "source": [
        "0 & 0 == 0\n",
        "0 & 1 == 0\n",
        "1 & 0 == 0\n",
        "1 & 1 == 1"
      ],
      "metadata": {
        "id": "thi9ULHhA05p"
      },
      "execution_count": null,
      "outputs": []
    },
    {
      "cell_type": "code",
      "source": [
        "0 | 0 == 0\n",
        "0 | 1 == 1\n",
        "1 | 0 == 1\n",
        "1 | 1 == 1"
      ],
      "metadata": {
        "id": "viwFllgzA831"
      },
      "execution_count": null,
      "outputs": []
    },
    {
      "cell_type": "markdown",
      "metadata": {
        "id": "skXFj_rDTQ_I"
      },
      "source": [
        "## Ввод и вывод\n",
        "\n",
        "Работа в Jupyter редко требует писать код, который сам по себе запрашивает данные с клавиатуры, но для других приложений (и в частности для домашних работ) это может потребоваться. К тому же, написание интерактивных приложений само по себе забавное занятие. Напишем, например, программу, которая здоровается с нами по имени."
      ]
    },
    {
      "cell_type": "code",
      "metadata": {
        "id": "Xb9il_j4TQ_I",
        "outputId": "5f4c8874-05bb-4b69-c639-4aedd67d2bec",
        "colab": {
          "base_uri": "https://localhost:8080/"
        }
      },
      "source": [
        "name = input(\"Введите ваше имя: \")\n",
        "print(\"Привет,\", name)\n",
        "print(10)"
      ],
      "execution_count": 42,
      "outputs": [
        {
          "output_type": "stream",
          "name": "stdout",
          "text": [
            "Введите ваше имя: Илья\n",
            "Привет, Илья\n",
            "10\n"
          ]
        }
      ]
    },
    {
      "cell_type": "code",
      "source": [
        "a = input(\"Введите число: \")\n",
        "a / 3"
      ],
      "metadata": {
        "colab": {
          "base_uri": "https://localhost:8080/",
          "height": 210
        },
        "id": "gPZuChxF7QMg",
        "outputId": "721ae2b9-116e-4e06-b34a-9372c9881730"
      },
      "execution_count": 45,
      "outputs": [
        {
          "name": "stdout",
          "output_type": "stream",
          "text": [
            "Введите число: 802982035\n"
          ]
        },
        {
          "output_type": "error",
          "ename": "TypeError",
          "evalue": "ignored",
          "traceback": [
            "\u001b[1;31m---------------------------------------------------------------------------\u001b[0m",
            "\u001b[1;31mTypeError\u001b[0m                                 Traceback (most recent call last)",
            "\u001b[1;32mC:\\Temp/ipykernel_12712/2686208481.py\u001b[0m in \u001b[0;36m<module>\u001b[1;34m\u001b[0m\n\u001b[0;32m      1\u001b[0m \u001b[0ma\u001b[0m \u001b[1;33m=\u001b[0m \u001b[0minput\u001b[0m\u001b[1;33m(\u001b[0m\u001b[1;34m\"Введите число: \"\u001b[0m\u001b[1;33m)\u001b[0m\u001b[1;33m\u001b[0m\u001b[1;33m\u001b[0m\u001b[0m\n\u001b[1;32m----> 2\u001b[1;33m \u001b[0ma\u001b[0m \u001b[1;33m/\u001b[0m \u001b[1;36m3\u001b[0m\u001b[1;33m\u001b[0m\u001b[1;33m\u001b[0m\u001b[0m\n\u001b[0m",
            "\u001b[1;31mTypeError\u001b[0m: unsupported operand type(s) for /: 'str' and 'int'"
          ]
        }
      ]
    },
    {
      "cell_type": "code",
      "source": [
        "a = int(input(\"Введите число: \"))\n",
        "print(a / 3)"
      ],
      "metadata": {
        "id": "IS33jANL-kqy",
        "outputId": "67dde623-985f-4266-dd7b-04f78b1d3999",
        "colab": {
          "base_uri": "https://localhost:8080/"
        }
      },
      "execution_count": 64,
      "outputs": [
        {
          "output_type": "stream",
          "name": "stdout",
          "text": [
            "Введите число: 94204\n",
            "31401.333333333332\n"
          ]
        }
      ]
    },
    {
      "cell_type": "code",
      "source": [
        "type(a / 3)"
      ],
      "metadata": {
        "colab": {
          "base_uri": "https://localhost:8080/"
        },
        "id": "SuPP6cCl9Dd2",
        "outputId": "fee0f367-f1ba-4ec6-8030-80096acb6f8b"
      },
      "execution_count": 66,
      "outputs": [
        {
          "output_type": "execute_result",
          "data": {
            "text/plain": [
              "float"
            ]
          },
          "metadata": {},
          "execution_count": 66
        }
      ]
    },
    {
      "cell_type": "code",
      "source": [
        "type(name)"
      ],
      "metadata": {
        "id": "8G0FipQ-98mX",
        "outputId": "d1c05248-34b7-45af-db03-12192251d027",
        "colab": {
          "base_uri": "https://localhost:8080/"
        }
      },
      "execution_count": 62,
      "outputs": [
        {
          "output_type": "execute_result",
          "data": {
            "text/plain": [
              "str"
            ]
          },
          "metadata": {},
          "execution_count": 62
        }
      ]
    },
    {
      "cell_type": "code",
      "source": [
        "type(a)"
      ],
      "metadata": {
        "colab": {
          "base_uri": "https://localhost:8080/"
        },
        "id": "u9FK9UbK84Qf",
        "outputId": "defbf2a0-f131-485f-af6e-317edea11a26"
      },
      "execution_count": 65,
      "outputs": [
        {
          "output_type": "execute_result",
          "data": {
            "text/plain": [
              "int"
            ]
          },
          "metadata": {},
          "execution_count": 65
        }
      ]
    },
    {
      "cell_type": "code",
      "metadata": {
        "id": "qNVszAGWTQ_J",
        "outputId": "18e38fe6-28b4-4a91-8f51-fbecee933c43",
        "colab": {
          "base_uri": "https://localhost:8080/"
        }
      },
      "source": [
        "print('Hello,', name, ',', 'how', 'are', 'you', sep='**', end='\\n\\n     ')\n",
        "print('bye-bye')"
      ],
      "execution_count": 68,
      "outputs": [
        {
          "output_type": "stream",
          "name": "stdout",
          "text": [
            "Hello,**Илья**,**how**are**you\n",
            "\n",
            "     bye-bye\n"
          ]
        }
      ]
    },
    {
      "cell_type": "code",
      "source": [
        "import random\n",
        "\n",
        "random.randint(1, 100)"
      ],
      "metadata": {
        "colab": {
          "base_uri": "https://localhost:8080/"
        },
        "id": "BKUXtfnjCUKX",
        "outputId": "6004bf71-0ce4-4a6b-b96d-4f4ca0fdf81e"
      },
      "execution_count": 88,
      "outputs": [
        {
          "output_type": "execute_result",
          "data": {
            "text/plain": [
              "63"
            ]
          },
          "metadata": {},
          "execution_count": 88
        }
      ]
    },
    {
      "cell_type": "markdown",
      "source": [
        "**Задача 1**\n",
        "Дано трехзначное число. Найдите сумму его цифр. Введённое число соответствует условию"
      ],
      "metadata": {
        "id": "2XpAfzq1IwnP"
      }
    },
    {
      "cell_type": "code",
      "source": [
        "# 123 Ответ: 6"
      ],
      "metadata": {
        "id": "NQoH6j48I90o"
      },
      "execution_count": null,
      "outputs": []
    },
    {
      "cell_type": "code",
      "source": [
        "value = int(input())\n",
        "c1 = value % 10\n",
        "c2 = value // 10 % 10\n",
        "c3 = value // 100\n",
        "print(c1, c2, c3)"
      ],
      "metadata": {
        "colab": {
          "base_uri": "https://localhost:8080/"
        },
        "id": "6qvXBI9UJMwi",
        "outputId": "388075c2-3ef6-4aef-ec0d-c780861852b1"
      },
      "execution_count": 91,
      "outputs": [
        {
          "output_type": "stream",
          "name": "stdout",
          "text": [
            "567\n",
            "7 6 5\n"
          ]
        }
      ]
    },
    {
      "cell_type": "code",
      "source": [
        "string = input()\n",
        "c1 = int(string[0])\n",
        "c2 = int(string[1])\n",
        "c3 = int(string[2])\n",
        "print(c1, c2, c3)"
      ],
      "metadata": {
        "colab": {
          "base_uri": "https://localhost:8080/"
        },
        "id": "KNHIRfZrK1Q5",
        "outputId": "81c3001e-3bdb-4db8-871f-481a0ff7bc22"
      },
      "execution_count": 93,
      "outputs": [
        {
          "output_type": "stream",
          "name": "stdout",
          "text": [
            "784\n",
            "7 8 4\n"
          ]
        }
      ]
    },
    {
      "cell_type": "markdown",
      "source": [
        "Решить в целых числах уравнение:\n",
        "![image.png](data:image/png;base64,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)"
      ],
      "metadata": {
        "id": "6-b0-SvILzzJ"
      }
    },
    {
      "cell_type": "code",
      "source": [
        "a = int(input())\n",
        "b = int(input())\n",
        "c = int(input())\n",
        "d = int(input())"
      ],
      "metadata": {
        "colab": {
          "base_uri": "https://localhost:8080/"
        },
        "id": "jSVsY8LVL8wR",
        "outputId": "fef795cc-5a98-43a3-8ea8-3a77d71f237f"
      },
      "execution_count": 101,
      "outputs": [
        {
          "name": "stdout",
          "output_type": "stream",
          "text": [
            "1\n",
            "1\n",
            "2\n",
            "2\n"
          ]
        }
      ]
    },
    {
      "cell_type": "code",
      "source": [
        "if c == 0 and d == 0:\n",
        "  print('NO')\n",
        "elif a == 0 and b == 0:\n",
        "  print('INF')\n",
        "elif a == 0 and b != 0:\n",
        "  print('NO')\n",
        "elif a != 0 and b == 0:\n",
        "  if c * 0 + d == 0:\n",
        "    print('NO')\n",
        "  else:\n",
        "    print(0)\n",
        "else:\n",
        "  if c * (-b) / a + d == 0:\n",
        "    print('NO')\n",
        "  elif -b // a != -b / a:\n",
        "    print('NO')\n",
        "  else:\n",
        "    print(-b // a)"
      ],
      "metadata": {
        "colab": {
          "base_uri": "https://localhost:8080/"
        },
        "id": "tTmHiZ_LMdh2",
        "outputId": "0cd70d2c-bbdc-4efa-e023-fe926eb6d31b"
      },
      "execution_count": 102,
      "outputs": [
        {
          "output_type": "stream",
          "name": "stdout",
          "text": [
            "NO\n"
          ]
        }
      ]
    },
    {
      "cell_type": "code",
      "source": [
        "value = int(input())\n",
        "if value > 0:\n",
        "  print(value, \"> 0\")\n",
        "elif value < 0:\n",
        "  print(value, \"< 0\")\n",
        "else:\n",
        "  print(value, \"== 0\")"
      ],
      "metadata": {
        "colab": {
          "base_uri": "https://localhost:8080/"
        },
        "id": "Hr9JFbujQko1",
        "outputId": "9858fe95-779c-4426-a16f-c5c38377931c"
      },
      "execution_count": 97,
      "outputs": [
        {
          "output_type": "stream",
          "name": "stdout",
          "text": [
            "100\n",
            "100 > 0\n"
          ]
        }
      ]
    },
    {
      "cell_type": "code",
      "source": [
        "value = int(input())\n",
        "if value > 0:\n",
        "  print(value, \"> 0\")\n",
        "else:\n",
        "  if value < 0:\n",
        "    print(value, \"< 0\")\n",
        "  else:\n",
        "    print(value, \"== 0\")"
      ],
      "metadata": {
        "id": "LCKgJMcbREOH"
      },
      "execution_count": null,
      "outputs": []
    },
    {
      "cell_type": "markdown",
      "metadata": {
        "id": "pHnHc9QcTQ_M"
      },
      "source": [
        "## Коллекции: списки, кортежи, range, (строки), множества, словари и др. Понятие последовательности"
      ]
    },
    {
      "cell_type": "markdown",
      "metadata": {
        "id": "RF2vHIXgTQ_N"
      },
      "source": [
        "### Строки\n",
        "\n",
        "Строковые константы можно задавать и с помощью одинарных кавычек, и с помощью двойных, и с помощью тройных:"
      ]
    },
    {
      "cell_type": "code",
      "metadata": {
        "id": "cFV-T3PkTQ_N",
        "outputId": "b8bb0381-869c-40fe-9bb1-f6358667ad95",
        "colab": {
          "base_uri": "https://localhost:8080/"
        }
      },
      "source": [
        "s1 = 'abc'\n",
        "s2 = \"abc\"\n",
        "s3 = \"\"\"abc\n",
        "aaaaaa\n",
        "aaaaa\n",
        "a\n",
        "aa\n",
        "\"\"\"\n",
        "\n",
        "s1 == s2"
      ],
      "execution_count": 103,
      "outputs": [
        {
          "output_type": "execute_result",
          "data": {
            "text/plain": [
              "True"
            ]
          },
          "metadata": {},
          "execution_count": 103
        }
      ]
    },
    {
      "cell_type": "code",
      "source": [
        "s3"
      ],
      "metadata": {
        "id": "LL8zyFwcAp9r",
        "outputId": "5992a141-f73a-4f06-916a-fb1590547c44",
        "colab": {
          "base_uri": "https://localhost:8080/"
        }
      },
      "execution_count": 104,
      "outputs": [
        {
          "output_type": "execute_result",
          "data": {
            "text/plain": [
              "'abc\\naaaaaa\\naaaaa\\na\\naa\\n'"
            ]
          },
          "metadata": {},
          "execution_count": 104
        }
      ]
    },
    {
      "cell_type": "code",
      "source": [
        "print(s3)"
      ],
      "metadata": {
        "id": "DPh6weVgA1rW",
        "outputId": "e69fdf11-b44d-40f0-b9ac-14bc9d958cb8",
        "colab": {
          "base_uri": "https://localhost:8080/"
        }
      },
      "execution_count": 106,
      "outputs": [
        {
          "output_type": "stream",
          "name": "stdout",
          "text": [
            "abc\n",
            "aaaaaa\n",
            "aaaaa\n",
            "a\n",
            "aa\n",
            "\n"
          ]
        }
      ]
    },
    {
      "cell_type": "code",
      "metadata": {
        "id": "e0rrMxLeTQ_O"
      },
      "source": [
        "a = 'a\\naa\\taa\\naaa\\ta'"
      ],
      "execution_count": 113,
      "outputs": []
    },
    {
      "cell_type": "code",
      "source": [
        "print(a)"
      ],
      "metadata": {
        "id": "7SgsuDNnAvv-",
        "outputId": "a2fa0ed4-c2aa-4ef0-fc67-8aeb2d82bf83",
        "colab": {
          "base_uri": "https://localhost:8080/"
        }
      },
      "execution_count": 114,
      "outputs": [
        {
          "output_type": "stream",
          "name": "stdout",
          "text": [
            "a\n",
            "aa\taa\n",
            "aaa\ta\n"
          ]
        }
      ]
    },
    {
      "cell_type": "code",
      "source": [
        "a[6]"
      ],
      "metadata": {
        "colab": {
          "base_uri": "https://localhost:8080/"
        },
        "id": "F6XqQZ0DTq8Y",
        "outputId": "be71b22b-5070-4470-c25b-b085ad22f7f2"
      },
      "execution_count": 118,
      "outputs": [
        {
          "output_type": "execute_result",
          "data": {
            "text/plain": [
              "'a'"
            ]
          },
          "metadata": {},
          "execution_count": 118
        }
      ]
    },
    {
      "cell_type": "code",
      "metadata": {
        "id": "UsJC0wKRTQ_O",
        "outputId": "cad629cb-c065-4713-ea47-6200e4ca8cf8",
        "colab": {
          "base_uri": "https://localhost:8080/",
          "height": 175
        }
      },
      "source": [
        "a[0] = 'b'"
      ],
      "execution_count": 115,
      "outputs": [
        {
          "output_type": "error",
          "ename": "TypeError",
          "evalue": "ignored",
          "traceback": [
            "\u001b[1;31m---------------------------------------------------------------------------\u001b[0m",
            "\u001b[1;31mTypeError\u001b[0m                                 Traceback (most recent call last)",
            "\u001b[1;32mC:\\Temp/ipykernel_12712/3945150233.py\u001b[0m in \u001b[0;36m<module>\u001b[1;34m\u001b[0m\n\u001b[1;32m----> 1\u001b[1;33m \u001b[0ma\u001b[0m\u001b[1;33m[\u001b[0m\u001b[1;36m0\u001b[0m\u001b[1;33m]\u001b[0m \u001b[1;33m=\u001b[0m \u001b[1;34m'b'\u001b[0m\u001b[1;33m\u001b[0m\u001b[1;33m\u001b[0m\u001b[0m\n\u001b[0m",
            "\u001b[1;31mTypeError\u001b[0m: 'str' object does not support item assignment"
          ]
        }
      ]
    },
    {
      "cell_type": "markdown",
      "metadata": {
        "id": "E44yECM8TQ_O"
      },
      "source": [
        "Операции над строками:\n",
        "\n",
        "* Сложение строк (+) — конкатенация строк\n",
        "* Умножение строки на целое число n (*) — повтороение строки n раз"
      ]
    },
    {
      "cell_type": "code",
      "metadata": {
        "id": "l0aeTXCvTQ_O",
        "outputId": "95a681c7-b666-42d7-e702-d0aa85f22abc",
        "colab": {
          "base_uri": "https://localhost:8080/"
        }
      },
      "source": [
        "\"abc\" + 'def'"
      ],
      "execution_count": 119,
      "outputs": [
        {
          "output_type": "execute_result",
          "data": {
            "text/plain": [
              "'abcdef'"
            ]
          },
          "metadata": {},
          "execution_count": 119
        }
      ]
    },
    {
      "cell_type": "code",
      "metadata": {
        "id": "S8LfG-UQTQ_O",
        "outputId": "3734d73a-a8f8-4446-a3ca-ed85ce22a922",
        "colab": {
          "base_uri": "https://localhost:8080/"
        }
      },
      "source": [
        "\"abc\" * 3"
      ],
      "execution_count": 120,
      "outputs": [
        {
          "output_type": "execute_result",
          "data": {
            "text/plain": [
              "'abcabcabc'"
            ]
          },
          "metadata": {},
          "execution_count": 120
        }
      ]
    },
    {
      "cell_type": "markdown",
      "metadata": {
        "id": "JxnDeKcGTQ_O"
      },
      "source": [
        "Функция `len` — получить длину строки:"
      ]
    },
    {
      "cell_type": "code",
      "metadata": {
        "id": "PItdK3IkTQ_P",
        "outputId": "e41ec717-60f8-477b-b547-ceffbd0ce2a8",
        "colab": {
          "base_uri": "https://localhost:8080/"
        }
      },
      "source": [
        "len(\"abc\")"
      ],
      "execution_count": 122,
      "outputs": [
        {
          "output_type": "execute_result",
          "data": {
            "text/plain": [
              "3"
            ]
          },
          "metadata": {},
          "execution_count": 122
        }
      ]
    },
    {
      "cell_type": "code",
      "metadata": {
        "id": "ad_He5qoTQ_P",
        "outputId": "55c9a2f0-ed59-4ba4-94fc-5094d5e07f7b",
        "colab": {
          "base_uri": "https://localhost:8080/"
        }
      },
      "source": [
        "s1"
      ],
      "execution_count": 123,
      "outputs": [
        {
          "output_type": "execute_result",
          "data": {
            "text/plain": [
              "'abc'"
            ]
          },
          "metadata": {},
          "execution_count": 123
        }
      ]
    },
    {
      "cell_type": "code",
      "source": [
        "sys.getsizeof(s1)"
      ],
      "metadata": {
        "id": "qxoBciW3BPW-",
        "outputId": "3060ca38-7aa2-44d7-9d2b-fe51f7dc6600",
        "colab": {
          "base_uri": "https://localhost:8080/"
        }
      },
      "execution_count": null,
      "outputs": [
        {
          "output_type": "execute_result",
          "data": {
            "text/plain": [
              "52"
            ]
          },
          "metadata": {},
          "execution_count": 80
        }
      ]
    },
    {
      "cell_type": "code",
      "source": [
        "help(str)"
      ],
      "metadata": {
        "id": "NwhtwSKTBeXO",
        "outputId": "e26262d4-5e43-40dc-f6a1-9174989caa71",
        "colab": {
          "base_uri": "https://localhost:8080/"
        }
      },
      "execution_count": 124,
      "outputs": [
        {
          "output_type": "stream",
          "name": "stdout",
          "text": [
            "Help on class str in module builtins:\n",
            "\n",
            "class str(object)\n",
            " |  str(object='') -> str\n",
            " |  str(bytes_or_buffer[, encoding[, errors]]) -> str\n",
            " |  \n",
            " |  Create a new string object from the given object. If encoding or\n",
            " |  errors is specified, then the object must expose a data buffer\n",
            " |  that will be decoded using the given encoding and error handler.\n",
            " |  Otherwise, returns the result of object.__str__() (if defined)\n",
            " |  or repr(object).\n",
            " |  encoding defaults to sys.getdefaultencoding().\n",
            " |  errors defaults to 'strict'.\n",
            " |  \n",
            " |  Methods defined here:\n",
            " |  \n",
            " |  __add__(self, value, /)\n",
            " |      Return self+value.\n",
            " |  \n",
            " |  __contains__(self, key, /)\n",
            " |      Return key in self.\n",
            " |  \n",
            " |  __eq__(self, value, /)\n",
            " |      Return self==value.\n",
            " |  \n",
            " |  __format__(self, format_spec, /)\n",
            " |      Return a formatted version of the string as described by format_spec.\n",
            " |  \n",
            " |  __ge__(self, value, /)\n",
            " |      Return self>=value.\n",
            " |  \n",
            " |  __getattribute__(self, name, /)\n",
            " |      Return getattr(self, name).\n",
            " |  \n",
            " |  __getitem__(self, key, /)\n",
            " |      Return self[key].\n",
            " |  \n",
            " |  __getnewargs__(...)\n",
            " |  \n",
            " |  __gt__(self, value, /)\n",
            " |      Return self>value.\n",
            " |  \n",
            " |  __hash__(self, /)\n",
            " |      Return hash(self).\n",
            " |  \n",
            " |  __iter__(self, /)\n",
            " |      Implement iter(self).\n",
            " |  \n",
            " |  __le__(self, value, /)\n",
            " |      Return self<=value.\n",
            " |  \n",
            " |  __len__(self, /)\n",
            " |      Return len(self).\n",
            " |  \n",
            " |  __lt__(self, value, /)\n",
            " |      Return self<value.\n",
            " |  \n",
            " |  __mod__(self, value, /)\n",
            " |      Return self%value.\n",
            " |  \n",
            " |  __mul__(self, value, /)\n",
            " |      Return self*value.\n",
            " |  \n",
            " |  __ne__(self, value, /)\n",
            " |      Return self!=value.\n",
            " |  \n",
            " |  __repr__(self, /)\n",
            " |      Return repr(self).\n",
            " |  \n",
            " |  __rmod__(self, value, /)\n",
            " |      Return value%self.\n",
            " |  \n",
            " |  __rmul__(self, value, /)\n",
            " |      Return value*self.\n",
            " |  \n",
            " |  __sizeof__(self, /)\n",
            " |      Return the size of the string in memory, in bytes.\n",
            " |  \n",
            " |  __str__(self, /)\n",
            " |      Return str(self).\n",
            " |  \n",
            " |  capitalize(self, /)\n",
            " |      Return a capitalized version of the string.\n",
            " |      \n",
            " |      More specifically, make the first character have upper case and the rest lower\n",
            " |      case.\n",
            " |  \n",
            " |  casefold(self, /)\n",
            " |      Return a version of the string suitable for caseless comparisons.\n",
            " |  \n",
            " |  center(self, width, fillchar=' ', /)\n",
            " |      Return a centered string of length width.\n",
            " |      \n",
            " |      Padding is done using the specified fill character (default is a space).\n",
            " |  \n",
            " |  count(...)\n",
            " |      S.count(sub[, start[, end]]) -> int\n",
            " |      \n",
            " |      Return the number of non-overlapping occurrences of substring sub in\n",
            " |      string S[start:end].  Optional arguments start and end are\n",
            " |      interpreted as in slice notation.\n",
            " |  \n",
            " |  encode(self, /, encoding='utf-8', errors='strict')\n",
            " |      Encode the string using the codec registered for encoding.\n",
            " |      \n",
            " |      encoding\n",
            " |        The encoding in which to encode the string.\n",
            " |      errors\n",
            " |        The error handling scheme to use for encoding errors.\n",
            " |        The default is 'strict' meaning that encoding errors raise a\n",
            " |        UnicodeEncodeError.  Other possible values are 'ignore', 'replace' and\n",
            " |        'xmlcharrefreplace' as well as any other name registered with\n",
            " |        codecs.register_error that can handle UnicodeEncodeErrors.\n",
            " |  \n",
            " |  endswith(...)\n",
            " |      S.endswith(suffix[, start[, end]]) -> bool\n",
            " |      \n",
            " |      Return True if S ends with the specified suffix, False otherwise.\n",
            " |      With optional start, test S beginning at that position.\n",
            " |      With optional end, stop comparing S at that position.\n",
            " |      suffix can also be a tuple of strings to try.\n",
            " |  \n",
            " |  expandtabs(self, /, tabsize=8)\n",
            " |      Return a copy where all tab characters are expanded using spaces.\n",
            " |      \n",
            " |      If tabsize is not given, a tab size of 8 characters is assumed.\n",
            " |  \n",
            " |  find(...)\n",
            " |      S.find(sub[, start[, end]]) -> int\n",
            " |      \n",
            " |      Return the lowest index in S where substring sub is found,\n",
            " |      such that sub is contained within S[start:end].  Optional\n",
            " |      arguments start and end are interpreted as in slice notation.\n",
            " |      \n",
            " |      Return -1 on failure.\n",
            " |  \n",
            " |  format(...)\n",
            " |      S.format(*args, **kwargs) -> str\n",
            " |      \n",
            " |      Return a formatted version of S, using substitutions from args and kwargs.\n",
            " |      The substitutions are identified by braces ('{' and '}').\n",
            " |  \n",
            " |  format_map(...)\n",
            " |      S.format_map(mapping) -> str\n",
            " |      \n",
            " |      Return a formatted version of S, using substitutions from mapping.\n",
            " |      The substitutions are identified by braces ('{' and '}').\n",
            " |  \n",
            " |  index(...)\n",
            " |      S.index(sub[, start[, end]]) -> int\n",
            " |      \n",
            " |      Return the lowest index in S where substring sub is found,\n",
            " |      such that sub is contained within S[start:end].  Optional\n",
            " |      arguments start and end are interpreted as in slice notation.\n",
            " |      \n",
            " |      Raises ValueError when the substring is not found.\n",
            " |  \n",
            " |  isalnum(self, /)\n",
            " |      Return True if the string is an alpha-numeric string, False otherwise.\n",
            " |      \n",
            " |      A string is alpha-numeric if all characters in the string are alpha-numeric and\n",
            " |      there is at least one character in the string.\n",
            " |  \n",
            " |  isalpha(self, /)\n",
            " |      Return True if the string is an alphabetic string, False otherwise.\n",
            " |      \n",
            " |      A string is alphabetic if all characters in the string are alphabetic and there\n",
            " |      is at least one character in the string.\n",
            " |  \n",
            " |  isascii(self, /)\n",
            " |      Return True if all characters in the string are ASCII, False otherwise.\n",
            " |      \n",
            " |      ASCII characters have code points in the range U+0000-U+007F.\n",
            " |      Empty string is ASCII too.\n",
            " |  \n",
            " |  isdecimal(self, /)\n",
            " |      Return True if the string is a decimal string, False otherwise.\n",
            " |      \n",
            " |      A string is a decimal string if all characters in the string are decimal and\n",
            " |      there is at least one character in the string.\n",
            " |  \n",
            " |  isdigit(self, /)\n",
            " |      Return True if the string is a digit string, False otherwise.\n",
            " |      \n",
            " |      A string is a digit string if all characters in the string are digits and there\n",
            " |      is at least one character in the string.\n",
            " |  \n",
            " |  isidentifier(self, /)\n",
            " |      Return True if the string is a valid Python identifier, False otherwise.\n",
            " |      \n",
            " |      Call keyword.iskeyword(s) to test whether string s is a reserved identifier,\n",
            " |      such as \"def\" or \"class\".\n",
            " |  \n",
            " |  islower(self, /)\n",
            " |      Return True if the string is a lowercase string, False otherwise.\n",
            " |      \n",
            " |      A string is lowercase if all cased characters in the string are lowercase and\n",
            " |      there is at least one cased character in the string.\n",
            " |  \n",
            " |  isnumeric(self, /)\n",
            " |      Return True if the string is a numeric string, False otherwise.\n",
            " |      \n",
            " |      A string is numeric if all characters in the string are numeric and there is at\n",
            " |      least one character in the string.\n",
            " |  \n",
            " |  isprintable(self, /)\n",
            " |      Return True if the string is printable, False otherwise.\n",
            " |      \n",
            " |      A string is printable if all of its characters are considered printable in\n",
            " |      repr() or if it is empty.\n",
            " |  \n",
            " |  isspace(self, /)\n",
            " |      Return True if the string is a whitespace string, False otherwise.\n",
            " |      \n",
            " |      A string is whitespace if all characters in the string are whitespace and there\n",
            " |      is at least one character in the string.\n",
            " |  \n",
            " |  istitle(self, /)\n",
            " |      Return True if the string is a title-cased string, False otherwise.\n",
            " |      \n",
            " |      In a title-cased string, upper- and title-case characters may only\n",
            " |      follow uncased characters and lowercase characters only cased ones.\n",
            " |  \n",
            " |  isupper(self, /)\n",
            " |      Return True if the string is an uppercase string, False otherwise.\n",
            " |      \n",
            " |      A string is uppercase if all cased characters in the string are uppercase and\n",
            " |      there is at least one cased character in the string.\n",
            " |  \n",
            " |  join(self, iterable, /)\n",
            " |      Concatenate any number of strings.\n",
            " |      \n",
            " |      The string whose method is called is inserted in between each given string.\n",
            " |      The result is returned as a new string.\n",
            " |      \n",
            " |      Example: '.'.join(['ab', 'pq', 'rs']) -> 'ab.pq.rs'\n",
            " |  \n",
            " |  ljust(self, width, fillchar=' ', /)\n",
            " |      Return a left-justified string of length width.\n",
            " |      \n",
            " |      Padding is done using the specified fill character (default is a space).\n",
            " |  \n",
            " |  lower(self, /)\n",
            " |      Return a copy of the string converted to lowercase.\n",
            " |  \n",
            " |  lstrip(self, chars=None, /)\n",
            " |      Return a copy of the string with leading whitespace removed.\n",
            " |      \n",
            " |      If chars is given and not None, remove characters in chars instead.\n",
            " |  \n",
            " |  partition(self, sep, /)\n",
            " |      Partition the string into three parts using the given separator.\n",
            " |      \n",
            " |      This will search for the separator in the string.  If the separator is found,\n",
            " |      returns a 3-tuple containing the part before the separator, the separator\n",
            " |      itself, and the part after it.\n",
            " |      \n",
            " |      If the separator is not found, returns a 3-tuple containing the original string\n",
            " |      and two empty strings.\n",
            " |  \n",
            " |  removeprefix(self, prefix, /)\n",
            " |      Return a str with the given prefix string removed if present.\n",
            " |      \n",
            " |      If the string starts with the prefix string, return string[len(prefix):].\n",
            " |      Otherwise, return a copy of the original string.\n",
            " |  \n",
            " |  removesuffix(self, suffix, /)\n",
            " |      Return a str with the given suffix string removed if present.\n",
            " |      \n",
            " |      If the string ends with the suffix string and that suffix is not empty,\n",
            " |      return string[:-len(suffix)]. Otherwise, return a copy of the original\n",
            " |      string.\n",
            " |  \n",
            " |  replace(self, old, new, count=-1, /)\n",
            " |      Return a copy with all occurrences of substring old replaced by new.\n",
            " |      \n",
            " |        count\n",
            " |          Maximum number of occurrences to replace.\n",
            " |          -1 (the default value) means replace all occurrences.\n",
            " |      \n",
            " |      If the optional argument count is given, only the first count occurrences are\n",
            " |      replaced.\n",
            " |  \n",
            " |  rfind(...)\n",
            " |      S.rfind(sub[, start[, end]]) -> int\n",
            " |      \n",
            " |      Return the highest index in S where substring sub is found,\n",
            " |      such that sub is contained within S[start:end].  Optional\n",
            " |      arguments start and end are interpreted as in slice notation.\n",
            " |      \n",
            " |      Return -1 on failure.\n",
            " |  \n",
            " |  rindex(...)\n",
            " |      S.rindex(sub[, start[, end]]) -> int\n",
            " |      \n",
            " |      Return the highest index in S where substring sub is found,\n",
            " |      such that sub is contained within S[start:end].  Optional\n",
            " |      arguments start and end are interpreted as in slice notation.\n",
            " |      \n",
            " |      Raises ValueError when the substring is not found.\n",
            " |  \n",
            " |  rjust(self, width, fillchar=' ', /)\n",
            " |      Return a right-justified string of length width.\n",
            " |      \n",
            " |      Padding is done using the specified fill character (default is a space).\n",
            " |  \n",
            " |  rpartition(self, sep, /)\n",
            " |      Partition the string into three parts using the given separator.\n",
            " |      \n",
            " |      This will search for the separator in the string, starting at the end. If\n",
            " |      the separator is found, returns a 3-tuple containing the part before the\n",
            " |      separator, the separator itself, and the part after it.\n",
            " |      \n",
            " |      If the separator is not found, returns a 3-tuple containing two empty strings\n",
            " |      and the original string.\n",
            " |  \n",
            " |  rsplit(self, /, sep=None, maxsplit=-1)\n",
            " |      Return a list of the words in the string, using sep as the delimiter string.\n",
            " |      \n",
            " |        sep\n",
            " |          The delimiter according which to split the string.\n",
            " |          None (the default value) means split according to any whitespace,\n",
            " |          and discard empty strings from the result.\n",
            " |        maxsplit\n",
            " |          Maximum number of splits to do.\n",
            " |          -1 (the default value) means no limit.\n",
            " |      \n",
            " |      Splits are done starting at the end of the string and working to the front.\n",
            " |  \n",
            " |  rstrip(self, chars=None, /)\n",
            " |      Return a copy of the string with trailing whitespace removed.\n",
            " |      \n",
            " |      If chars is given and not None, remove characters in chars instead.\n",
            " |  \n",
            " |  split(self, /, sep=None, maxsplit=-1)\n",
            " |      Return a list of the words in the string, using sep as the delimiter string.\n",
            " |      \n",
            " |      sep\n",
            " |        The delimiter according which to split the string.\n",
            " |        None (the default value) means split according to any whitespace,\n",
            " |        and discard empty strings from the result.\n",
            " |      maxsplit\n",
            " |        Maximum number of splits to do.\n",
            " |        -1 (the default value) means no limit.\n",
            " |  \n",
            " |  splitlines(self, /, keepends=False)\n",
            " |      Return a list of the lines in the string, breaking at line boundaries.\n",
            " |      \n",
            " |      Line breaks are not included in the resulting list unless keepends is given and\n",
            " |      true.\n",
            " |  \n",
            " |  startswith(...)\n",
            " |      S.startswith(prefix[, start[, end]]) -> bool\n",
            " |      \n",
            " |      Return True if S starts with the specified prefix, False otherwise.\n",
            " |      With optional start, test S beginning at that position.\n",
            " |      With optional end, stop comparing S at that position.\n",
            " |      prefix can also be a tuple of strings to try.\n",
            " |  \n",
            " |  strip(self, chars=None, /)\n",
            " |      Return a copy of the string with leading and trailing whitespace removed.\n",
            " |      \n",
            " |      If chars is given and not None, remove characters in chars instead.\n",
            " |  \n",
            " |  swapcase(self, /)\n",
            " |      Convert uppercase characters to lowercase and lowercase characters to uppercase.\n",
            " |  \n",
            " |  title(self, /)\n",
            " |      Return a version of the string where each word is titlecased.\n",
            " |      \n",
            " |      More specifically, words start with uppercased characters and all remaining\n",
            " |      cased characters have lower case.\n",
            " |  \n",
            " |  translate(self, table, /)\n",
            " |      Replace each character in the string using the given translation table.\n",
            " |      \n",
            " |        table\n",
            " |          Translation table, which must be a mapping of Unicode ordinals to\n",
            " |          Unicode ordinals, strings, or None.\n",
            " |      \n",
            " |      The table must implement lookup/indexing via __getitem__, for instance a\n",
            " |      dictionary or list.  If this operation raises LookupError, the character is\n",
            " |      left untouched.  Characters mapped to None are deleted.\n",
            " |  \n",
            " |  upper(self, /)\n",
            " |      Return a copy of the string converted to uppercase.\n",
            " |  \n",
            " |  zfill(self, width, /)\n",
            " |      Pad a numeric string with zeros on the left, to fill a field of the given width.\n",
            " |      \n",
            " |      The string is never truncated.\n",
            " |  \n",
            " |  ----------------------------------------------------------------------\n",
            " |  Static methods defined here:\n",
            " |  \n",
            " |  __new__(*args, **kwargs) from builtins.type\n",
            " |      Create and return a new object.  See help(type) for accurate signature.\n",
            " |  \n",
            " |  maketrans(...)\n",
            " |      Return a translation table usable for str.translate().\n",
            " |      \n",
            " |      If there is only one argument, it must be a dictionary mapping Unicode\n",
            " |      ordinals (integers) or characters to Unicode ordinals, strings or None.\n",
            " |      Character keys will be then converted to ordinals.\n",
            " |      If there are two arguments, they must be strings of equal length, and\n",
            " |      in the resulting dictionary, each character in x will be mapped to the\n",
            " |      character at the same position in y. If there is a third argument, it\n",
            " |      must be a string, whose characters will be mapped to None in the result.\n",
            "\n"
          ]
        }
      ]
    },
    {
      "cell_type": "code",
      "source": [
        "dir(str)"
      ],
      "metadata": {
        "id": "zgPmheu8BcXQ",
        "outputId": "804e5c76-b5a6-4995-b76c-714f04328277",
        "colab": {
          "base_uri": "https://localhost:8080/"
        }
      },
      "execution_count": null,
      "outputs": [
        {
          "output_type": "execute_result",
          "data": {
            "text/plain": [
              "['__add__',\n",
              " '__class__',\n",
              " '__contains__',\n",
              " '__delattr__',\n",
              " '__dir__',\n",
              " '__doc__',\n",
              " '__eq__',\n",
              " '__format__',\n",
              " '__ge__',\n",
              " '__getattribute__',\n",
              " '__getitem__',\n",
              " '__getnewargs__',\n",
              " '__gt__',\n",
              " '__hash__',\n",
              " '__init__',\n",
              " '__init_subclass__',\n",
              " '__iter__',\n",
              " '__le__',\n",
              " '__len__',\n",
              " '__lt__',\n",
              " '__mod__',\n",
              " '__mul__',\n",
              " '__ne__',\n",
              " '__new__',\n",
              " '__reduce__',\n",
              " '__reduce_ex__',\n",
              " '__repr__',\n",
              " '__rmod__',\n",
              " '__rmul__',\n",
              " '__setattr__',\n",
              " '__sizeof__',\n",
              " '__str__',\n",
              " '__subclasshook__',\n",
              " 'capitalize',\n",
              " 'casefold',\n",
              " 'center',\n",
              " 'count',\n",
              " 'encode',\n",
              " 'endswith',\n",
              " 'expandtabs',\n",
              " 'find',\n",
              " 'format',\n",
              " 'format_map',\n",
              " 'index',\n",
              " 'isalnum',\n",
              " 'isalpha',\n",
              " 'isascii',\n",
              " 'isdecimal',\n",
              " 'isdigit',\n",
              " 'isidentifier',\n",
              " 'islower',\n",
              " 'isnumeric',\n",
              " 'isprintable',\n",
              " 'isspace',\n",
              " 'istitle',\n",
              " 'isupper',\n",
              " 'join',\n",
              " 'ljust',\n",
              " 'lower',\n",
              " 'lstrip',\n",
              " 'maketrans',\n",
              " 'partition',\n",
              " 'removeprefix',\n",
              " 'removesuffix',\n",
              " 'replace',\n",
              " 'rfind',\n",
              " 'rindex',\n",
              " 'rjust',\n",
              " 'rpartition',\n",
              " 'rsplit',\n",
              " 'rstrip',\n",
              " 'split',\n",
              " 'splitlines',\n",
              " 'startswith',\n",
              " 'strip',\n",
              " 'swapcase',\n",
              " 'title',\n",
              " 'translate',\n",
              " 'upper',\n",
              " 'zfill']"
            ]
          },
          "metadata": {},
          "execution_count": 81
        }
      ]
    },
    {
      "cell_type": "markdown",
      "metadata": {
        "id": "SUXyABVVTQ_P"
      },
      "source": [
        "У типа str большое количество встроенных строковых методов:\n",
        "* .find — найти подстроку\n",
        "* .upper — перевести строку в верхний регистр\n",
        "* .lower — перевести строку в нижний регистр\n",
        "* .strip — обрезать по краям поданные символы (по умолчанию пробельные)"
      ]
    },
    {
      "cell_type": "code",
      "source": [
        "s1 = 'abcb'"
      ],
      "metadata": {
        "id": "2mhrLgWWUzRG"
      },
      "execution_count": 127,
      "outputs": []
    },
    {
      "cell_type": "code",
      "metadata": {
        "id": "fqYN8DWxTQ_P",
        "colab": {
          "base_uri": "https://localhost:8080/"
        },
        "outputId": "60195e93-930a-422b-cad2-b878997b99c3"
      },
      "source": [
        "s1.rfind('b')"
      ],
      "execution_count": 129,
      "outputs": [
        {
          "output_type": "execute_result",
          "data": {
            "text/plain": [
              "3"
            ]
          },
          "metadata": {},
          "execution_count": 129
        }
      ]
    },
    {
      "cell_type": "code",
      "metadata": {
        "id": "Cgh8Pxa2TQ_P",
        "colab": {
          "base_uri": "https://localhost:8080/"
        },
        "outputId": "5ae8e0e2-6c2d-4cf4-c0b5-67ba9dc08e4c"
      },
      "source": [
        "s1[-1]"
      ],
      "execution_count": 134,
      "outputs": [
        {
          "output_type": "execute_result",
          "data": {
            "text/plain": [
              "'b'"
            ]
          },
          "metadata": {},
          "execution_count": 134
        }
      ]
    },
    {
      "cell_type": "code",
      "metadata": {
        "id": "JaIENCdJTQ_Q",
        "colab": {
          "base_uri": "https://localhost:8080/"
        },
        "outputId": "cef142bf-97c5-4da6-8649-8ba349601b02"
      },
      "source": [
        "s1.upper()"
      ],
      "execution_count": 135,
      "outputs": [
        {
          "output_type": "execute_result",
          "data": {
            "text/plain": [
              "'ABCB'"
            ]
          },
          "metadata": {},
          "execution_count": 135
        }
      ]
    },
    {
      "cell_type": "code",
      "source": [
        "s1"
      ],
      "metadata": {
        "colab": {
          "base_uri": "https://localhost:8080/"
        },
        "id": "aLaKzk2UVEg2",
        "outputId": "868e6975-2349-4b9b-b690-d576c705ecec"
      },
      "execution_count": 136,
      "outputs": [
        {
          "output_type": "execute_result",
          "data": {
            "text/plain": [
              "'abcb'"
            ]
          },
          "metadata": {},
          "execution_count": 136
        }
      ]
    },
    {
      "cell_type": "code",
      "source": [
        "s1 = s1.upper()"
      ],
      "metadata": {
        "id": "slIu7DXRVGbi"
      },
      "execution_count": 137,
      "outputs": []
    },
    {
      "cell_type": "code",
      "source": [
        "s1"
      ],
      "metadata": {
        "colab": {
          "base_uri": "https://localhost:8080/"
        },
        "id": "ISIO_G63VIFF",
        "outputId": "1ba1ecbe-d032-4302-ea65-e28c1702343a"
      },
      "execution_count": 138,
      "outputs": [
        {
          "output_type": "execute_result",
          "data": {
            "text/plain": [
              "'ABCB'"
            ]
          },
          "metadata": {},
          "execution_count": 138
        }
      ]
    },
    {
      "cell_type": "code",
      "metadata": {
        "id": "1pfwI3PyTQ_R",
        "colab": {
          "base_uri": "https://localhost:8080/"
        },
        "outputId": "12dc6c41-69ba-4d70-dd9a-099b352c8b31"
      },
      "source": [
        "s1.upper().lower()"
      ],
      "execution_count": 139,
      "outputs": [
        {
          "output_type": "execute_result",
          "data": {
            "text/plain": [
              "'abcb'"
            ]
          },
          "metadata": {},
          "execution_count": 139
        }
      ]
    },
    {
      "cell_type": "code",
      "metadata": {
        "id": "8U4pWhAhTQ_S",
        "colab": {
          "base_uri": "https://localhost:8080/"
        },
        "outputId": "07c1929f-72f3-4fbc-a7c6-291b2138c3fc"
      },
      "source": [
        "\"a   \".strip()"
      ],
      "execution_count": 140,
      "outputs": [
        {
          "output_type": "execute_result",
          "data": {
            "text/plain": [
              "'a'"
            ]
          },
          "metadata": {},
          "execution_count": 140
        }
      ]
    },
    {
      "cell_type": "code",
      "metadata": {
        "id": "5pZKZ0ciTQ_S"
      },
      "source": [
        "z = '      z.      '"
      ],
      "execution_count": 145,
      "outputs": []
    },
    {
      "cell_type": "code",
      "source": [
        "z"
      ],
      "metadata": {
        "colab": {
          "base_uri": "https://localhost:8080/"
        },
        "id": "lOVm2zMUVQyG",
        "outputId": "af1cd5e8-12a1-4fdd-e52b-10794d5624ba"
      },
      "execution_count": 146,
      "outputs": [
        {
          "output_type": "execute_result",
          "data": {
            "text/plain": [
              "'      z.      '"
            ]
          },
          "metadata": {},
          "execution_count": 146
        }
      ]
    },
    {
      "cell_type": "code",
      "metadata": {
        "id": "yU6QnUaXTQ_S",
        "colab": {
          "base_uri": "https://localhost:8080/"
        },
        "outputId": "28895ad4-c056-41b6-8699-42b680c70290"
      },
      "source": [
        "z.strip()"
      ],
      "execution_count": 147,
      "outputs": [
        {
          "output_type": "execute_result",
          "data": {
            "text/plain": [
              "'z.'"
            ]
          },
          "metadata": {},
          "execution_count": 147
        }
      ]
    },
    {
      "cell_type": "code",
      "metadata": {
        "id": "8ZQTSIdJTQ_T",
        "colab": {
          "base_uri": "https://localhost:8080/"
        },
        "outputId": "95bfe76f-f615-4d4a-a7ae-56e6160f911f"
      },
      "source": [
        "z.rstrip()"
      ],
      "execution_count": 148,
      "outputs": [
        {
          "output_type": "execute_result",
          "data": {
            "text/plain": [
              "'      z.'"
            ]
          },
          "metadata": {},
          "execution_count": 148
        }
      ]
    },
    {
      "cell_type": "code",
      "metadata": {
        "id": "MOdP1OB_TQ_T",
        "colab": {
          "base_uri": "https://localhost:8080/"
        },
        "outputId": "40d84c73-53d9-45e2-a7e0-2afb53df20a5"
      },
      "source": [
        "z.lstrip()"
      ],
      "execution_count": 149,
      "outputs": [
        {
          "output_type": "execute_result",
          "data": {
            "text/plain": [
              "'z.      '"
            ]
          },
          "metadata": {},
          "execution_count": 149
        }
      ]
    },
    {
      "cell_type": "markdown",
      "metadata": {
        "id": "9fSBFpcCTQ_T"
      },
      "source": [
        "Индексироваться по строкам можно с помощью квадратных скобок:"
      ]
    },
    {
      "cell_type": "code",
      "metadata": {
        "id": "gidvVEqxTQ_U"
      },
      "source": [
        "s = \"abc\"\n",
        "s[0]"
      ],
      "execution_count": null,
      "outputs": []
    },
    {
      "cell_type": "code",
      "metadata": {
        "id": "krIRY1G9TQ_U"
      },
      "source": [
        "s"
      ],
      "execution_count": null,
      "outputs": []
    },
    {
      "cell_type": "code",
      "metadata": {
        "id": "swqB0S8fTQ_U"
      },
      "source": [
        "s[0] = 'b'"
      ],
      "execution_count": null,
      "outputs": []
    },
    {
      "cell_type": "code",
      "metadata": {
        "id": "OOSkwN5kTQ_U"
      },
      "source": [
        "'b' + s[1:]"
      ],
      "execution_count": null,
      "outputs": []
    },
    {
      "cell_type": "code",
      "metadata": {
        "id": "DbPRzvskTQ_V"
      },
      "source": [
        "s[1:]"
      ],
      "execution_count": null,
      "outputs": []
    },
    {
      "cell_type": "code",
      "metadata": {
        "id": "BM5wuNtGTQ_V"
      },
      "source": [
        "s[:-1]"
      ],
      "execution_count": null,
      "outputs": []
    },
    {
      "cell_type": "code",
      "metadata": {
        "id": "Pb-ga9vaTQ_V"
      },
      "source": [
        "a = '0123456789'"
      ],
      "execution_count": null,
      "outputs": []
    },
    {
      "cell_type": "code",
      "metadata": {
        "id": "WdtSRujLTQ_V"
      },
      "source": [
        "a = a + '!'"
      ],
      "execution_count": null,
      "outputs": []
    },
    {
      "cell_type": "code",
      "metadata": {
        "scrolled": true,
        "id": "j5HD6YWcTQ_V"
      },
      "source": [
        "a"
      ],
      "execution_count": null,
      "outputs": []
    },
    {
      "cell_type": "code",
      "metadata": {
        "id": "YzBOr4aOTQ_V"
      },
      "source": [],
      "execution_count": null,
      "outputs": []
    },
    {
      "cell_type": "markdown",
      "metadata": {
        "id": "hvJn6sGFTQ_W"
      },
      "source": [
        "**Внимание**: строка — неизменяемый объект!"
      ]
    },
    {
      "cell_type": "code",
      "metadata": {
        "id": "nHgiQ2reTQ_W"
      },
      "source": [
        "s[0] = 'b'"
      ],
      "execution_count": null,
      "outputs": []
    },
    {
      "cell_type": "markdown",
      "metadata": {
        "id": "sxPM6ymATQ_W"
      },
      "source": [
        "Срезы (slicing) — вид продвинутой индексации.\n",
        "\n",
        "s[start:finish:step]\n",
        "\n",
        "* start — начало среза\n",
        "* finish — конец среза (не входит в срез!!!)\n",
        "* step — шаг\n"
      ]
    },
    {
      "cell_type": "code",
      "metadata": {
        "id": "l4LXbtqrTQ_W",
        "colab": {
          "base_uri": "https://localhost:8080/"
        },
        "outputId": "70517c35-818c-4759-bebc-73e6b7ba9dcb"
      },
      "source": [
        "s"
      ],
      "execution_count": 152,
      "outputs": [
        {
          "output_type": "execute_result",
          "data": {
            "text/plain": [
              "'0123456789'"
            ]
          },
          "metadata": {},
          "execution_count": 152
        }
      ]
    },
    {
      "cell_type": "code",
      "metadata": {
        "id": "kpPkoaRoTQ_W"
      },
      "source": [
        "s = '0123456789'"
      ],
      "execution_count": 151,
      "outputs": []
    },
    {
      "cell_type": "code",
      "metadata": {
        "id": "-wkVm7HkTQ_W",
        "colab": {
          "base_uri": "https://localhost:8080/"
        },
        "outputId": "f3595c32-bd5f-43c6-b2fa-f88890bb6685"
      },
      "source": [
        "s[0:7]"
      ],
      "execution_count": 170,
      "outputs": [
        {
          "output_type": "execute_result",
          "data": {
            "text/plain": [
              "'0123456'"
            ]
          },
          "metadata": {},
          "execution_count": 170
        }
      ]
    },
    {
      "cell_type": "code",
      "source": [
        "s[::]"
      ],
      "metadata": {
        "colab": {
          "base_uri": "https://localhost:8080/"
        },
        "id": "OZ09sxtXXMZC",
        "outputId": "66d0d280-5a41-4460-82c4-4e24ffda5aba"
      },
      "execution_count": 173,
      "outputs": [
        {
          "output_type": "execute_result",
          "data": {
            "text/plain": [
              "'0123456789'"
            ]
          },
          "metadata": {},
          "execution_count": 173
        }
      ]
    },
    {
      "cell_type": "code",
      "source": [
        "s[-2::-2]"
      ],
      "metadata": {
        "colab": {
          "base_uri": "https://localhost:8080/"
        },
        "id": "8beYdYegVohi",
        "outputId": "b3341846-5117-4fa1-8561-e3b020f75b9c"
      },
      "execution_count": 172,
      "outputs": [
        {
          "output_type": "execute_result",
          "data": {
            "text/plain": [
              "'86420'"
            ]
          },
          "metadata": {},
          "execution_count": 172
        }
      ]
    },
    {
      "cell_type": "code",
      "metadata": {
        "id": "eTyH9cocTQ_W",
        "colab": {
          "base_uri": "https://localhost:8080/"
        },
        "outputId": "ae1e36fb-7254-4eaf-bd7d-7d55493bc204"
      },
      "source": [
        "s[::2]"
      ],
      "execution_count": 174,
      "outputs": [
        {
          "output_type": "execute_result",
          "data": {
            "text/plain": [
              "'02468'"
            ]
          },
          "metadata": {},
          "execution_count": 174
        }
      ]
    },
    {
      "cell_type": "code",
      "source": [
        "reversed(s)"
      ],
      "metadata": {
        "colab": {
          "base_uri": "https://localhost:8080/"
        },
        "id": "LYLP8y89XYBZ",
        "outputId": "af8b6271-7368-4b8d-bcc5-c32e210cd402"
      },
      "execution_count": 176,
      "outputs": [
        {
          "output_type": "execute_result",
          "data": {
            "text/plain": [
              "<reversed at 0x1c61e440850>"
            ]
          },
          "metadata": {},
          "execution_count": 176
        }
      ]
    },
    {
      "cell_type": "code",
      "metadata": {
        "id": "_yDlc6jUTQ_X",
        "colab": {
          "base_uri": "https://localhost:8080/"
        },
        "outputId": "a2338612-ea48-4d11-cebb-42b9aca51de1"
      },
      "source": [
        "s[::-1]"
      ],
      "execution_count": 177,
      "outputs": [
        {
          "output_type": "execute_result",
          "data": {
            "text/plain": [
              "'9876543210'"
            ]
          },
          "metadata": {},
          "execution_count": 177
        }
      ]
    },
    {
      "cell_type": "code",
      "metadata": {
        "id": "AV1vo-sJTQ_X",
        "colab": {
          "base_uri": "https://localhost:8080/"
        },
        "outputId": "5f5c274e-f76d-4f98-f8e3-0ebcd0130831"
      },
      "source": [
        "s[::-2]"
      ],
      "execution_count": 178,
      "outputs": [
        {
          "output_type": "execute_result",
          "data": {
            "text/plain": [
              "'97531'"
            ]
          },
          "metadata": {},
          "execution_count": 178
        }
      ]
    },
    {
      "cell_type": "code",
      "metadata": {
        "id": "povXyxhBTQ_X",
        "colab": {
          "base_uri": "https://localhost:8080/"
        },
        "outputId": "7d52ad15-7891-40a1-d874-1c3de0f3e6fd"
      },
      "source": [
        "s[::3]"
      ],
      "execution_count": 179,
      "outputs": [
        {
          "output_type": "execute_result",
          "data": {
            "text/plain": [
              "'0369'"
            ]
          },
          "metadata": {},
          "execution_count": 179
        }
      ]
    },
    {
      "cell_type": "markdown",
      "metadata": {
        "id": "Jbq5g3zQTQ_X"
      },
      "source": [
        "Срез равный всей строке:"
      ]
    },
    {
      "cell_type": "code",
      "metadata": {
        "id": "Q8DaL9S5TQ_X"
      },
      "source": [
        "s[0:len(s):1]"
      ],
      "execution_count": null,
      "outputs": []
    },
    {
      "cell_type": "code",
      "metadata": {
        "id": "uSELbfiXTQ_Y"
      },
      "source": [
        "# срез с шагом 2\n",
        "s[0:len(s):2]"
      ],
      "execution_count": null,
      "outputs": []
    },
    {
      "cell_type": "markdown",
      "metadata": {
        "id": "EF0SeaUvTQ_Y"
      },
      "source": [
        "Срез равный одному элементу:"
      ]
    },
    {
      "cell_type": "code",
      "metadata": {
        "id": "zJAZKSh1TQ_Y"
      },
      "source": [
        "s[5:6:1]"
      ],
      "execution_count": null,
      "outputs": []
    },
    {
      "cell_type": "markdown",
      "metadata": {
        "id": "V2BNPFTYTQ_Y"
      },
      "source": [
        "start, finish, step могут иметь отрицательные значения\n",
        "\n",
        "* start == -a $\\; \\leftrightarrow \\;$ start == len(s) - a\n",
        "* finish == -a $\\; \\leftrightarrow \\;$ finish == len(s) - a\n",
        "* step == -a $\\; \\leftrightarrow \\;$ проходить список в обратном направлении"
      ]
    },
    {
      "cell_type": "code",
      "source": [
        "s"
      ],
      "metadata": {
        "colab": {
          "base_uri": "https://localhost:8080/"
        },
        "id": "SyudJbePZWE3",
        "outputId": "8480cbe2-5016-497f-bca7-b2b00a4b3fa6"
      },
      "execution_count": 190,
      "outputs": [
        {
          "output_type": "execute_result",
          "data": {
            "text/plain": [
              "'0123456789'"
            ]
          },
          "metadata": {},
          "execution_count": 190
        }
      ]
    },
    {
      "cell_type": "code",
      "source": [
        "s[len(s) - 1]"
      ],
      "metadata": {
        "colab": {
          "base_uri": "https://localhost:8080/"
        },
        "id": "qyKpfDM-ZW0W",
        "outputId": "3ac6a575-fd07-4878-f573-fdc4c5fd57db"
      },
      "execution_count": 192,
      "outputs": [
        {
          "output_type": "execute_result",
          "data": {
            "text/plain": [
              "'9'"
            ]
          },
          "metadata": {},
          "execution_count": 192
        }
      ]
    },
    {
      "cell_type": "code",
      "source": [
        "s[10 - 1]"
      ],
      "metadata": {
        "colab": {
          "base_uri": "https://localhost:8080/"
        },
        "id": "CBrHmx43ZcqF",
        "outputId": "be85abb7-9628-480f-f0eb-8fae4a18168e"
      },
      "execution_count": 193,
      "outputs": [
        {
          "output_type": "execute_result",
          "data": {
            "text/plain": [
              "'9'"
            ]
          },
          "metadata": {},
          "execution_count": 193
        }
      ]
    },
    {
      "cell_type": "code",
      "source": [
        "s[-1]"
      ],
      "metadata": {
        "colab": {
          "base_uri": "https://localhost:8080/"
        },
        "id": "2N-yVWxHZkAz",
        "outputId": "1d6f1f7b-0327-482c-e332-03086a36dd21"
      },
      "execution_count": 194,
      "outputs": [
        {
          "output_type": "execute_result",
          "data": {
            "text/plain": [
              "'9'"
            ]
          },
          "metadata": {},
          "execution_count": 194
        }
      ]
    },
    {
      "cell_type": "code",
      "source": [
        "s[-2]"
      ],
      "metadata": {
        "colab": {
          "base_uri": "https://localhost:8080/"
        },
        "id": "M454y_dRZlIu",
        "outputId": "7200d44b-cf4f-41fd-f35e-51c513890102"
      },
      "execution_count": 195,
      "outputs": [
        {
          "output_type": "execute_result",
          "data": {
            "text/plain": [
              "'8'"
            ]
          },
          "metadata": {},
          "execution_count": 195
        }
      ]
    },
    {
      "cell_type": "code",
      "source": [
        "s[-3]"
      ],
      "metadata": {
        "colab": {
          "base_uri": "https://localhost:8080/"
        },
        "id": "MVpJ1QmYZmdl",
        "outputId": "3b562222-1c8b-409a-c6ae-0afe28a4f287"
      },
      "execution_count": 196,
      "outputs": [
        {
          "output_type": "execute_result",
          "data": {
            "text/plain": [
              "'7'"
            ]
          },
          "metadata": {},
          "execution_count": 196
        }
      ]
    },
    {
      "cell_type": "code",
      "source": [
        "s[-10]"
      ],
      "metadata": {
        "colab": {
          "base_uri": "https://localhost:8080/"
        },
        "id": "xD3biunYZn5E",
        "outputId": "dcaf1dfd-7cff-4299-bc7b-ce744acc89ff"
      },
      "execution_count": 197,
      "outputs": [
        {
          "output_type": "execute_result",
          "data": {
            "text/plain": [
              "'0'"
            ]
          },
          "metadata": {},
          "execution_count": 197
        }
      ]
    },
    {
      "cell_type": "code",
      "source": [
        "s[10 - 10]"
      ],
      "metadata": {
        "colab": {
          "base_uri": "https://localhost:8080/"
        },
        "id": "2oF2n2v4ZxOz",
        "outputId": "3d5271af-ff87-4498-fa92-ceea61783b52"
      },
      "execution_count": 198,
      "outputs": [
        {
          "output_type": "execute_result",
          "data": {
            "text/plain": [
              "'0'"
            ]
          },
          "metadata": {},
          "execution_count": 198
        }
      ]
    },
    {
      "cell_type": "code",
      "source": [],
      "metadata": {
        "id": "kDoMoHFXZX7K"
      },
      "execution_count": null,
      "outputs": []
    },
    {
      "cell_type": "markdown",
      "metadata": {
        "id": "UKtReIzvTQ_Y"
      },
      "source": [
        "<font color='red'>**Задача 2.** Что будет выведено после следующих команд:</font>\n",
        "    1. s[7:-1:-1]\n",
        "    2. s[:100:]\n",
        "    3. s[-1:8:-2]\n",
        "    4. s[4:-7]\n",
        "    5. s[-20::5]"
      ]
    },
    {
      "cell_type": "code",
      "source": [
        "s"
      ],
      "metadata": {
        "colab": {
          "base_uri": "https://localhost:8080/"
        },
        "id": "WYoXM8umXrCv",
        "outputId": "99625b92-e110-49f5-b440-cc7f11361df1"
      },
      "execution_count": 180,
      "outputs": [
        {
          "output_type": "execute_result",
          "data": {
            "text/plain": [
              "'0123456789'"
            ]
          },
          "metadata": {},
          "execution_count": 180
        }
      ]
    },
    {
      "cell_type": "code",
      "source": [
        "None?"
      ],
      "metadata": {
        "id": "hAhgs4PeYakQ"
      },
      "execution_count": 188,
      "outputs": []
    },
    {
      "cell_type": "code",
      "source": [
        "s[-2::-2]"
      ],
      "metadata": {
        "colab": {
          "base_uri": "https://localhost:8080/"
        },
        "id": "FLyOh7KTYZND",
        "outputId": "f07a631d-7196-420c-91fa-e48ebb6e42b5"
      },
      "execution_count": 189,
      "outputs": [
        {
          "output_type": "execute_result",
          "data": {
            "text/plain": [
              "'86420'"
            ]
          },
          "metadata": {},
          "execution_count": 189
        }
      ]
    },
    {
      "cell_type": "code",
      "source": [
        "s[-1:-4:-2]"
      ],
      "metadata": {
        "colab": {
          "base_uri": "https://localhost:8080/"
        },
        "id": "hU8VqsyAXuMb",
        "outputId": "9283c684-aade-4e8b-b3cd-556a46d17b81"
      },
      "execution_count": 185,
      "outputs": [
        {
          "output_type": "execute_result",
          "data": {
            "text/plain": [
              "'97'"
            ]
          },
          "metadata": {},
          "execution_count": 185
        }
      ]
    },
    {
      "cell_type": "code",
      "metadata": {
        "id": "LXeKStrYTQ_Y"
      },
      "source": [
        "## your answer here"
      ],
      "execution_count": null,
      "outputs": []
    },
    {
      "cell_type": "markdown",
      "metadata": {
        "id": "ZoZtWifjTQ_Z"
      },
      "source": [
        "<font color='red'>**Задача 3.** Получите для строки s строку result, состоящую из элементов исходной строки, стоящих на чётных местах, в обратном порядке (включая A[0]), после которых идут элементы строки, стоящие на нечётных местах. Использовать циклы запрещено!</font>\n"
      ]
    },
    {
      "cell_type": "code",
      "metadata": {
        "id": "r_zUJsf5TQ_Z"
      },
      "source": [
        "s = 'qwertyuiopasdfghjkl'\n",
        "\n",
        "result = ## your answer here"
      ],
      "execution_count": null,
      "outputs": []
    },
    {
      "cell_type": "markdown",
      "metadata": {
        "id": "y3SUvrgSTQ_Z"
      },
      "source": [
        "Проверьте себя:"
      ]
    },
    {
      "cell_type": "code",
      "metadata": {
        "id": "86BIHpF_TQ_Z"
      },
      "source": [
        "assert result == 'ljgdaouteqwryipsfhk'"
      ],
      "execution_count": null,
      "outputs": []
    }
  ]
}