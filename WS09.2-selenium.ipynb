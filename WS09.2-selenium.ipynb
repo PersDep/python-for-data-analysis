{
  "cells": [
    {
      "cell_type": "markdown",
      "metadata": {
        "id": "e2D1iUrL9KwE"
      },
      "source": [
        "# Python для анализа данных\n",
        "\n",
        "## Веб-скрэйпинг: скачивание файлов"
      ]
    },
    {
      "cell_type": "code",
      "source": [
        "#!wget"
      ],
      "metadata": {
        "id": "UDqhg9tv9Yr7"
      },
      "execution_count": null,
      "outputs": []
    },
    {
      "cell_type": "markdown",
      "metadata": {
        "id": "nEhVSX8B9KwF"
      },
      "source": [
        "## Скачивание файлов"
      ]
    },
    {
      "cell_type": "markdown",
      "metadata": {
        "id": "_RlxNRUG9KwF"
      },
      "source": [
        "Еще одно применение скрэйпинга, о котором мы пока не поговорили - это автоматизированное скачивание файлов. Например, вы хотите скачать научные статьи по определенному ключевому слову или прайс-листы поставщика, которые он загружает на сайт в эскеле.\n",
        "\n",
        "Давайте посмотрим, как скачивать файлы на примере pdf и заодно попробуем походить по ссылкам. Кстати, этот процесс еще часто называется spidering или crawling, потому что ваш скрипт как паучок ползет по ссылкам (отсюда и название первых поисковых роботов - spider).\n",
        "\n",
        "Давайте попробуем сохранить англоязычные summary дисертаций, защищенных в 2019 году\n",
        "\n",
        "Мы уже отредактировали фильтры и ссылка их запомнила. Позже сегодня посмотрим как можно самим заполнять такие поля с помощью Selenium.\n",
        "\n",
        "https://www.hse.ru/sci/diss/?author=&chief=&year=2019&type=1&degree_type=&council=&spec=&fulltext=yes"
      ]
    },
    {
      "cell_type": "code",
      "execution_count": 1,
      "metadata": {
        "collapsed": true,
        "colab": {
          "base_uri": "https://localhost:8080/"
        },
        "id": "7vE9SOqL9KwF",
        "outputId": "6c395f43-31fd-4725-f818-0f2f32bbe051"
      },
      "outputs": [
        {
          "output_type": "stream",
          "name": "stdout",
          "text": [
            "Requirement already satisfied: selenium in c:\\program files\\python310\\lib\\site-packages (4.16.0)\n",
            "Requirement already satisfied: urllib3<3,>=1.26 in c:\\program files\\python310\\lib\\site-packages (from urllib3[socks]<3,>=1.26->selenium) (2.1.0)\n",
            "Requirement already satisfied: trio~=0.17 in c:\\program files\\python310\\lib\\site-packages (from selenium) (0.23.2)\n",
            "Requirement already satisfied: trio-websocket~=0.9 in c:\\program files\\python310\\lib\\site-packages (from selenium) (0.11.1)\n",
            "Requirement already satisfied: certifi>=2021.10.8 in c:\\program files\\python310\\lib\\site-packages (from selenium) (2021.10.8)\n",
            "Requirement already satisfied: attrs>=20.1.0 in c:\\program files\\python310\\lib\\site-packages (from trio~=0.17->selenium) (21.2.0)\n",
            "Requirement already satisfied: sortedcontainers in c:\\program files\\python310\\lib\\site-packages (from trio~=0.17->selenium) (2.4.0)\n",
            "Requirement already satisfied: idna in c:\\program files\\python310\\lib\\site-packages (from trio~=0.17->selenium) (2.8)\n",
            "Requirement already satisfied: outcome in c:\\program files\\python310\\lib\\site-packages (from trio~=0.17->selenium) (1.3.0.post0)\n",
            "Requirement already satisfied: sniffio>=1.3.0 in c:\\program files\\python310\\lib\\site-packages (from trio~=0.17->selenium) (1.3.0)\n",
            "Requirement already satisfied: cffi>=1.14 in c:\\program files\\python310\\lib\\site-packages (from trio~=0.17->selenium) (1.15.0)\n",
            "Requirement already satisfied: exceptiongroup in c:\\program files\\python310\\lib\\site-packages (from trio~=0.17->selenium) (1.2.0)\n",
            "Requirement already satisfied: wsproto>=0.14 in c:\\program files\\python310\\lib\\site-packages (from trio-websocket~=0.9->selenium) (1.2.0)\n",
            "Requirement already satisfied: pysocks!=1.5.7,<2.0,>=1.5.6 in c:\\program files\\python310\\lib\\site-packages (from urllib3[socks]<3,>=1.26->selenium) (1.7.1)\n",
            "Requirement already satisfied: pycparser in c:\\program files\\python310\\lib\\site-packages (from cffi>=1.14->trio~=0.17->selenium) (2.21)\n",
            "Requirement already satisfied: h11<1,>=0.9.0 in c:\\program files\\python310\\lib\\site-packages (from wsproto>=0.14->trio-websocket~=0.9->selenium) (0.14.0)\n"
          ]
        },
        {
          "output_type": "stream",
          "name": "stderr",
          "text": [
            "WARNING: Ignoring invalid distribution -atplotlib (c:\\program files\\python310\\lib\\site-packages)\n",
            "WARNING: Ignoring invalid distribution -atplotlib (c:\\program files\\python310\\lib\\site-packages)\n"
          ]
        }
      ],
      "source": [
        "!pip install selenium"
      ]
    },
    {
      "cell_type": "code",
      "execution_count": 2,
      "metadata": {
        "colab": {
          "base_uri": "https://localhost:8080/"
        },
        "id": "-iaa5jTQ9KwG",
        "outputId": "986faf1f-41be-4da8-c93d-6e8486c0ce6d"
      },
      "outputs": [
        {
          "output_type": "stream",
          "name": "stdout",
          "text": [
            "Requirement already satisfied: webdriver_manager in c:\\program files\\python310\\lib\\site-packages (4.0.1)\n",
            "Requirement already satisfied: requests in c:\\program files\\python310\\lib\\site-packages (from webdriver_manager) (2.31.0)\n",
            "Requirement already satisfied: python-dotenv in c:\\program files\\python310\\lib\\site-packages (from webdriver_manager) (1.0.0)\n",
            "Requirement already satisfied: packaging in c:\\program files\\python310\\lib\\site-packages (from webdriver_manager) (21.3)\n",
            "Requirement already satisfied: pyparsing!=3.0.5,>=2.0.2 in c:\\program files\\python310\\lib\\site-packages (from packaging->webdriver_manager) (3.0.6)\n",
            "Requirement already satisfied: charset-normalizer<4,>=2 in c:\\program files\\python310\\lib\\site-packages (from requests->webdriver_manager) (2.0.8)\n",
            "Requirement already satisfied: idna<4,>=2.5 in c:\\program files\\python310\\lib\\site-packages (from requests->webdriver_manager) (2.8)\n",
            "Requirement already satisfied: urllib3<3,>=1.21.1 in c:\\program files\\python310\\lib\\site-packages (from requests->webdriver_manager) (2.1.0)\n",
            "Requirement already satisfied: certifi>=2017.4.17 in c:\\program files\\python310\\lib\\site-packages (from requests->webdriver_manager) (2021.10.8)\n"
          ]
        },
        {
          "output_type": "stream",
          "name": "stderr",
          "text": [
            "WARNING: Ignoring invalid distribution -atplotlib (c:\\program files\\python310\\lib\\site-packages)\n",
            "WARNING: Ignoring invalid distribution -atplotlib (c:\\program files\\python310\\lib\\site-packages)\n"
          ]
        }
      ],
      "source": [
        "!pip install webdriver_manager"
      ]
    },
    {
      "cell_type": "code",
      "execution_count": 3,
      "metadata": {
        "id": "up04eLYu9KwH"
      },
      "outputs": [],
      "source": [
        "import requests\n",
        "from bs4 import BeautifulSoup\n",
        "from selenium import webdriver\n",
        "from selenium.webdriver.common.keys import Keys\n",
        "from selenium.webdriver.support.ui import Select\n",
        "from time import sleep\n",
        "import pandas as pd\n",
        "from webdriver_manager.chrome import ChromeDriverManager\n",
        "from selenium.webdriver.chrome.service import Service\n",
        "s = Service(ChromeDriverManager().install())\n",
        "driver = webdriver.Chrome(service=s)\n",
        "\n",
        "driver.implicitly_wait(2)"
      ]
    },
    {
      "cell_type": "code",
      "execution_count": 4,
      "metadata": {
        "id": "u2cf-Vf-9KwH"
      },
      "outputs": [],
      "source": [
        "link = 'https://www.hse.ru/sci/diss/?author=&chief=&year=2019&type=1&degree_type=&council=&spec=&fulltext=yes'\n",
        "driver.get(link)"
      ]
    },
    {
      "cell_type": "code",
      "execution_count": 5,
      "metadata": {
        "id": "wZcObgmx9KwH"
      },
      "outputs": [],
      "source": [
        "soup = BeautifulSoup(driver.page_source)"
      ]
    },
    {
      "cell_type": "markdown",
      "metadata": {
        "id": "SlN2ki_l9KwH"
      },
      "source": [
        "Давайте для начала поэкспериментируем с первым кандидатом."
      ]
    },
    {
      "cell_type": "code",
      "execution_count": null,
      "metadata": {
        "id": "0WRD5HUV9KwH"
      },
      "outputs": [],
      "source": [
        "print(soup.prettify())"
      ]
    },
    {
      "cell_type": "code",
      "execution_count": 7,
      "metadata": {
        "colab": {
          "base_uri": "https://localhost:8080/"
        },
        "id": "QAO8lGTo9KwH",
        "outputId": "e2c5a3b4-94c3-4bf0-ed7b-082f7ceb5d2c"
      },
      "outputs": [
        {
          "output_type": "stream",
          "name": "stdout",
          "text": [
            "174\n"
          ]
        },
        {
          "output_type": "execute_result",
          "data": {
            "text/plain": [
              "[<a class=\"link\" href=\"/sci/diss/314832967\">Мотивационные и личностные предпосылки жизненного призвания</a>,\n",
              " <a class=\"link\" href=\"/org/persons/28125914\" target=\"_blank\">Леонтьев Дмитрий Алексеевич</a>,\n",
              " <a class=\"link\" href=\"/sci/diss/?keyword=calling\">calling</a>,\n",
              " <a class=\"link\" href=\"/sci/diss/?keyword=career%20guidance\">career guidance</a>,\n",
              " <a class=\"link\" href=\"/sci/diss/?keyword=meaning%20in%20life\">meaning in life</a>,\n",
              " <a class=\"link\" href=\"/sci/diss/?keyword=positive%20psychology%20intervention\">positive psychology intervention</a>,\n",
              " <a class=\"link\" href=\"/sci/diss/?keyword=vocation\">vocation</a>,\n",
              " <a class=\"link\" href=\"/sci/diss/?keyword=%D0%BF%D0%BE%D0%B7%D0%B8%D1%82%D0%B8%D0%B2%D0%BD%D0%B0%D1%8F%20%D0%B8%D0%BD%D1%82%D0%B5%D1%80%D0%B2%D0%B5%D0%BD%D1%86%D0%B8%D1%8F\">позитивная интервенция</a>,\n",
              " <a class=\"link\" href=\"/sci/diss/?keyword=%D0%BF%D1%80%D0%B8%D0%B7%D0%B2%D0%B0%D0%BD%D0%B8%D0%B5\">призвание</a>,\n",
              " <a class=\"link\" href=\"/sci/diss/?keyword=%D1%81%D0%BC%D1%8B%D1%81%D0%BB%20%D0%B6%D0%B8%D0%B7%D0%BD%D0%B8\">смысл жизни</a>,\n",
              " <a class=\"link\" data-hse-file=\"PDF\" href=\"http://www.hse.ru/data/xf/365/361/1532/Dissertation.pdf\">Диссертация</a>,\n",
              " <a class=\"link\" data-hse-file=\"PDF\" href=\"http://www.hse.ru/data/2019/10/29/1532361365/Резюме диссертации (1).pdf\">Резюме</a>,\n",
              " <a class=\"link\" data-hse-file=\"PDF\" href=\"http://www.hse.ru/data/2019/10/29/1532361365/summary_EN_final (3).pdf\">Summary</a>,\n",
              " <a class=\"link\" href=\"/sci/diss/313979705\">Социодемографические аспекты перехода во взрослую жизнь россиян 1930-1986 г.р.</a>,\n",
              " <a class=\"link\" href=\"/org/persons/12150362\" target=\"_blank\">Митрофанова Екатерина Сергеевна</a>,\n",
              " <a class=\"link\" href=\"/org/persons/556494\" target=\"_blank\">Захаров Сергей Владимирович</a>,\n",
              " <a class=\"link\" href=\"/sci/diss/?keyword=%D0%B0%D0%BD%D0%B0%D0%BB%D0%B8%D0%B7%20%D0%BD%D0%B0%D1%81%D1%82%D1%83%D0%BF%D0%BB%D0%B5%D0%BD%D0%B8%D1%8F%20%D1%81%D0%BE%D0%B1%D1%8B%D1%82%D0%B8%D0%B9\">анализ наступления событий</a>,\n",
              " <a class=\"link\" href=\"/sci/diss/?keyword=%D0%B1%D1%80%D0%B0%D1%87%D0%BD%D0%BE%D1%81%D1%82%D1%8C\">брачность</a>,\n",
              " <a class=\"link\" href=\"/sci/diss/?keyword=%D0%B2%D0%B7%D1%80%D0%BE%D1%81%D0%BB%D0%B5%D0%BD%D0%B8%D0%B5\">взросление</a>,\n",
              " <a class=\"link\" href=\"/sci/diss/?keyword=%D0%B4%D0%B5%D0%BC%D0%BE%D0%B3%D1%80%D0%B0%D1%84%D0%B8%D1%8F\">демография</a>,\n",
              " <a class=\"link\" href=\"/sci/diss/?keyword=%D0%B6%D0%B8%D0%B7%D0%BD%D0%B5%D0%BD%D0%BD%D1%8B%D0%B9%20%D0%BF%D1%83%D1%82%D1%8C\">жизненный путь</a>,\n",
              " <a class=\"link\" href=\"/sci/diss/?keyword=%D0%BF%D0%BE%D0%BA%D0%BE%D0%BB%D0%B5%D0%BD%D0%B8%D1%8F\">поколения</a>,\n",
              " <a class=\"link\" href=\"/sci/diss/?keyword=%D1%80%D0%BE%D0%B6%D0%B4%D0%B0%D0%B5%D0%BC%D0%BE%D1%81%D1%82%D1%8C\">рождаемость</a>,\n",
              " <a class=\"link\" href=\"/sci/diss/?keyword=%D1%81%D1%82%D0%B0%D1%80%D1%82%D0%BE%D0%B2%D1%8B%D0%B5%20%D1%81%D0%BE%D0%B1%D1%8B%D1%82%D0%B8%D1%8F\">стартовые события</a>,\n",
              " <a class=\"link\" data-hse-file=\"PDF\" href=\"http://www.hse.ru/data/xf/739/885/1528/Митрофанова - диссертация.pdf\">Диссертация</a>,\n",
              " <a class=\"link\" data-hse-file=\"PDF\" href=\"http://www.hse.ru/data/2019/10/22/1528885739/Митрофанова - резюме диссертации.pdf\">Резюме</a>,\n",
              " <a class=\"link\" data-hse-file=\"PDF\" href=\"http://www.hse.ru/data/2019/10/22/1528885739/Mitrofanova - summary.pdf\">Summary</a>,\n",
              " <a class=\"link\" href=\"/sci/diss/309059431\">Особенности правового регулирования труда лиц, работающих вне места нахождения работодателя</a>,\n",
              " <a class=\"link\" href=\"/org/persons/68971\" target=\"_blank\">Петров Алексей Яковлевич</a>,\n",
              " <a class=\"link\" href=\"/sci/diss/?keyword=%D0%B2%D0%B0%D1%85%D1%82%D0%BE%D0%B2%D1%8B%D0%B9%20%D0%BC%D0%B5%D1%82%D0%BE%D0%B4%20%D0%BE%D1%80%D0%B3%D0%B0%D0%BD%D0%B8%D0%B7%D0%B0%D1%86%D0%B8%D0%B8%20%D1%82%D1%80%D1%83%D0%B4%D0%B0\">вахтовый метод организации труда</a>,\n",
              " <a class=\"link\" href=\"/sci/diss/?keyword=%D0%B4%D0%B8%D1%81%D1%82%D0%B0%D0%BD%D1%86%D0%B8%D0%BE%D0%BD%D0%BD%D1%8B%D0%B9%20%D1%82%D1%80%D1%83%D0%B4\">дистанционный труд</a>,\n",
              " <a class=\"link\" href=\"/sci/diss/?keyword=%D0%BD%D0%B0%D0%B4%D0%BE%D0%BC%D0%BD%D1%8B%D0%B9%20%D1%82%D1%80%D1%83%D0%B4\">надомный труд</a>,\n",
              " <a class=\"link\" href=\"/sci/diss/?keyword=%D1%80%D0%B0%D0%B1%D0%BE%D1%82%D0%B0%20%D0%B2%20%D0%BF%D0%BE%D0%BB%D0%B5%D0%B2%D1%8B%D1%85%20%D1%83%D1%81%D0%BB%D0%BE%D0%B2%D0%B8%D1%8F%D1%85\">работа в полевых условиях</a>,\n",
              " <a class=\"link\" href=\"/sci/diss/?keyword=%D1%80%D0%B0%D0%B1%D0%BE%D1%82%D0%B0%20%D0%B2%20%D1%80%D0%B0%D0%B7%D1%8A%D0%B5%D0%B7%D0%B4%D0%B0%D1%85\">работа в разъездах</a>,\n",
              " <a class=\"link\" href=\"/sci/diss/?keyword=%D1%83%D0%B4%D0%B0%D0%BB%D0%B5%D0%BD%D0%BD%D0%B0%D1%8F%20%D1%80%D0%B0%D0%B1%D0%BE%D1%82%D0%B0\">удаленная работа</a>,\n",
              " <a class=\"link\" data-hse-file=\"PDF\" href=\"http://www.hse.ru/data/xf/021/364/1543/Бородина Е.Н._Диссертация_181019.pdf\">Диссертация</a>,\n",
              " <a class=\"link\" data-hse-file=\"PDF\" href=\"http://www.hse.ru/data/2019/10/18/1543364021/1Бородина Е.Н._Резюме_181019.pdf\">Резюме</a>,\n",
              " <a class=\"link\" data-hse-file=\"PDF\" href=\"http://www.hse.ru/data/2019/10/18/1543364021/Borodina E._Summary_181019.pdf\">Summary</a>,\n",
              " <a class=\"link\" href=\"/sci/diss/7528068\">Внутренние факторы экспортной деятельности российских вузов</a>,\n",
              " <a class=\"link\" href=\"/org/persons/205653\" target=\"_blank\">Меликян Алиса Валерьевна</a>,\n",
              " <a class=\"link\" href=\"/org/persons/25477\" target=\"_blank\">Абанкина Ирина Всеволодовна</a>,\n",
              " <a class=\"link\" href=\"/sci/diss/?keyword=%D0%B8%D0%BD%D0%BE%D1%81%D1%82%D1%80%D0%B0%D0%BD%D0%BD%D1%8B%D0%B5%20%D1%81%D1%82%D1%83%D0%B4%D0%B5%D0%BD%D1%82%D1%8B\">иностранные студенты</a>,\n",
              " <a class=\"link\" href=\"/sci/diss/?keyword=%D0%BA%D0%BB%D0%B0%D1%81%D1%82%D0%B5%D1%80%D0%BD%D1%8B%D0%B9%20%D0%B0%D0%BD%D0%B0%D0%BB%D0%B8%D0%B7\">кластерный анализ</a>,\n",
              " <a class=\"link\" href=\"/sci/diss/?keyword=%D0%BA%D0%BB%D0%B0%D1%81%D1%82%D0%B5%D1%80%D1%8B\">кластеры</a>,\n",
              " <a class=\"link\" href=\"/sci/diss/?keyword=%D1%80%D0%BE%D1%81%D1%81%D0%B8%D0%B9%D1%81%D0%BA%D0%B8%D0%B5%20%D0%B2%D1%83%D0%B7%D1%8B\">российские вузы</a>,\n",
              " <a class=\"link\" href=\"/sci/diss/?keyword=%D1%8D%D0%BA%D0%BE%D0%BD%D0%BE%D0%BC%D0%B5%D1%82%D1%80%D0%B8%D1%87%D0%B5%D1%81%D0%BA%D0%B8%D0%B9%20%D0%B0%D0%BD%D0%B0%D0%BB%D0%B8%D0%B7\">эконометрический анализ</a>,\n",
              " <a class=\"link\" href=\"/sci/diss/?keyword=%D1%8D%D0%BA%D1%81%D0%BF%D0%BE%D1%80%D1%82%D0%BD%D0%B0%D1%8F%20%D0%B4%D0%B5%D1%8F%D1%82%D0%B5%D0%BB%D1%8C%D0%BD%D0%BE%D1%81%D1%82%D1%8C%20%D0%B2%D1%83%D0%B7%D0%BE%D0%B2\">экспортная деятельность вузов</a>,\n",
              " <a class=\"link\" data-hse-file=\"PDF\" href=\"http://www.hse.ru/data/xf/382/735/1239/Меликян_Диссертация 16.10.pdf\">Диссертация</a>,\n",
              " <a class=\"link\" data-hse-file=\"PDF\" href=\"http://www.hse.ru/data/2019/10/16/1239735382/Меликян_Резюме 16.10.pdf\">Резюме</a>,\n",
              " <a class=\"link\" data-hse-file=\"PDF\" href=\"http://www.hse.ru/data/2019/10/16/1239735382/Меликян_Summary 16.10.pdf\">Summary</a>]"
            ]
          },
          "metadata": {},
          "execution_count": 7
        }
      ],
      "source": [
        "print(len(soup.find_all('a')))\n",
        "soup.find_all('a', {'class':'link'})[:50]"
      ]
    },
    {
      "cell_type": "markdown",
      "metadata": {
        "id": "JadvY_Na9KwH"
      },
      "source": [
        "Видим, что ссылок очень много, а нам нужны только те, которые ведут на summary. Можно поискать их по тексту ссылки."
      ]
    },
    {
      "cell_type": "code",
      "execution_count": 8,
      "metadata": {
        "colab": {
          "base_uri": "https://localhost:8080/"
        },
        "id": "Ij_RqXS59KwH",
        "outputId": "95f3056c-b122-48b1-ea35-608e6816f28d"
      },
      "outputs": [
        {
          "output_type": "stream",
          "name": "stdout",
          "text": [
            "http://www.hse.ru/data/2019/10/29/1532361365/summary_EN_final (3).pdf\n",
            "http://www.hse.ru/data/2019/10/22/1528885739/Mitrofanova - summary.pdf\n",
            "http://www.hse.ru/data/2019/10/18/1543364021/Borodina E._Summary_181019.pdf\n",
            "http://www.hse.ru/data/2019/10/16/1239735382/Меликян_Summary 16.10.pdf\n",
            "http://www.hse.ru/data/2019/10/03/1182240389/Кучин_резюме_ENG.pdf\n",
            "http://www.hse.ru/data/2019/10/15/1539883570/summary.pdf\n",
            "http://www.hse.ru/data/2019/10/11/1541034023/Resume.pdf\n",
            "http://www.hse.ru/data/2019/10/11/1535827784/kulikova_thesis summary_final.pdf\n",
            "http://www.hse.ru/data/2019/08/26/1536057698/Сидорова_summary.pdf\n",
            "http://www.hse.ru/data/2019/10/04/1184372726/Резюме на английском_Захарова_04.10.2019_финал.pdf\n"
          ]
        },
        {
          "output_type": "stream",
          "name": "stderr",
          "text": [
            "C:\\Temp/ipykernel_13440/2000331977.py:1: DeprecationWarning: The 'text' argument to find()-type methods is deprecated. Use 'string' instead.\n",
            "  for link in soup.find_all('a', text='Summary'):\n"
          ]
        }
      ],
      "source": [
        "for link in soup.find_all('a', text='Summary'):\n",
        "    print(link.get('href'))"
      ]
    },
    {
      "cell_type": "markdown",
      "metadata": {
        "id": "as6R8B0z9KwI"
      },
      "source": [
        "И соберем ссылки в список."
      ]
    },
    {
      "cell_type": "code",
      "execution_count": 9,
      "metadata": {
        "colab": {
          "base_uri": "https://localhost:8080/"
        },
        "id": "_rWa0g7g9KwI",
        "outputId": "6c9264c5-3ac4-4d1c-aa80-f6fdc3bababe"
      },
      "outputs": [
        {
          "output_type": "stream",
          "name": "stdout",
          "text": [
            "['http://www.hse.ru/data/2019/10/29/1532361365/summary_EN_final (3).pdf', 'http://www.hse.ru/data/2019/10/22/1528885739/Mitrofanova - summary.pdf', 'http://www.hse.ru/data/2019/10/18/1543364021/Borodina E._Summary_181019.pdf', 'http://www.hse.ru/data/2019/10/16/1239735382/Меликян_Summary 16.10.pdf', 'http://www.hse.ru/data/2019/10/03/1182240389/Кучин_резюме_ENG.pdf', 'http://www.hse.ru/data/2019/10/15/1539883570/summary.pdf', 'http://www.hse.ru/data/2019/10/11/1541034023/Resume.pdf', 'http://www.hse.ru/data/2019/10/11/1535827784/kulikova_thesis summary_final.pdf', 'http://www.hse.ru/data/2019/08/26/1536057698/Сидорова_summary.pdf', 'http://www.hse.ru/data/2019/10/04/1184372726/Резюме на английском_Захарова_04.10.2019_финал.pdf']\n"
          ]
        },
        {
          "output_type": "stream",
          "name": "stderr",
          "text": [
            "C:\\Temp/ipykernel_13440/621886780.py:2: DeprecationWarning: The 'text' argument to find()-type methods is deprecated. Use 'string' instead.\n",
            "  for link in soup.find_all('a', text='Summary'):\n"
          ]
        }
      ],
      "source": [
        "links = []\n",
        "for link in soup.find_all('a', text='Summary'):\n",
        "#     print(link)\n",
        "    links.append(link.get('href'))\n",
        "\n",
        "print(links)"
      ]
    },
    {
      "cell_type": "markdown",
      "metadata": {
        "id": "jv4HFiDR9KwI"
      },
      "source": [
        "Отлично. Теперь нужно придумать, откуда взять название для каждого файла. Пусть это будут фамилии авторов, давайте доберемся до них. Такую задачу мы пока не решали: будем искать тэг по тексту, а потом искать его родителя (потому что ни ячейку таблицы с именем автора, ни саму таблицу не получится уникально отсечь)."
      ]
    },
    {
      "cell_type": "code",
      "execution_count": 10,
      "metadata": {
        "colab": {
          "base_uri": "https://localhost:8080/"
        },
        "id": "MfY8ZVzT9KwI",
        "outputId": "ae33fac6-1d1b-4d17-e774-bbfff07230c0"
      },
      "outputs": [
        {
          "output_type": "stream",
          "name": "stdout",
          "text": [
            "Белобородова Полина Михайловна\n",
            "calling, \n",
            "анализ наступления событий, \n",
            "Бородина Елена Николаевна\n",
            "вахтовый метод организации труда, \n",
            "иностранные студенты, \n",
            "модели ценообразования активов, \n",
            "магнетронное распыление, \n",
            "Годин Андрей Сергеевич\n",
            "Климов Константин Николаевич\n",
            "измерения диаграмм направленностей электрически малых антенн, \n",
            "NorBA, \n",
            "Сидорова Мария Алексеевна\n",
            "Арендт, \n",
            "Захарова Олеся Викторовна\n",
            "аргументационные схемы (топосы), \n"
          ]
        }
      ],
      "source": [
        "for author in soup.find_all('div', {'class':'p1 v'}):\n",
        "    try:\n",
        "        print(author.span.text)\n",
        "    except:\n",
        "        pass"
      ]
    },
    {
      "cell_type": "code",
      "execution_count": 11,
      "metadata": {
        "colab": {
          "base_uri": "https://localhost:8080/"
        },
        "id": "lmgDlIX59KwI",
        "outputId": "5f1d0b80-409f-44b9-9be5-50dc9d323bd3"
      },
      "outputs": [
        {
          "output_type": "execute_result",
          "data": {
            "text/plain": [
              "'Митрофанова Екатерина Сергеевна'"
            ]
          },
          "metadata": {},
          "execution_count": 11
        }
      ],
      "source": [
        "soup.find_all('div', string='Соискатель:')[1].parent()[1].text"
      ]
    },
    {
      "cell_type": "markdown",
      "metadata": {
        "id": "rmfi3lhL9KwI"
      },
      "source": [
        "Достанем фамилии."
      ]
    },
    {
      "cell_type": "code",
      "execution_count": 12,
      "metadata": {
        "colab": {
          "base_uri": "https://localhost:8080/"
        },
        "id": "ebpUniW_9KwI",
        "outputId": "86838487-3f53-4840-8f1a-bbf2ea908bdd"
      },
      "outputs": [
        {
          "output_type": "stream",
          "name": "stdout",
          "text": [
            "['Белобородова', 'Митрофанова', 'Бородина', 'Меликян', 'Кучин', 'Монахов', 'Годин', 'Куликова', 'Сидорова', 'Захарова']\n"
          ]
        }
      ],
      "source": [
        "authors = []\n",
        "for author in soup.find_all('div', string='Соискатель:'):\n",
        "#     print(author.parent()[1].get_text().split()[0])\n",
        "    authors.append(author.parent()[1].get_text().split()[0])\n",
        "\n",
        "print(authors)"
      ]
    },
    {
      "cell_type": "markdown",
      "metadata": {
        "id": "NcAWGuLo9KwJ"
      },
      "source": [
        "Проверим, что списки действительно одинаковой длины."
      ]
    },
    {
      "cell_type": "code",
      "execution_count": 13,
      "metadata": {
        "colab": {
          "base_uri": "https://localhost:8080/"
        },
        "id": "j7_-fqNz9KwJ",
        "outputId": "65f42d22-6293-4514-edcb-1b03ec86e2dd"
      },
      "outputs": [
        {
          "output_type": "execute_result",
          "data": {
            "text/plain": [
              "True"
            ]
          },
          "metadata": {},
          "execution_count": 13
        }
      ],
      "source": [
        "len(links) == len(authors)"
      ]
    },
    {
      "cell_type": "code",
      "execution_count": 14,
      "metadata": {
        "colab": {
          "base_uri": "https://localhost:8080/"
        },
        "id": "QR6nRwgO9KwJ",
        "outputId": "b52e49e5-f4fc-44ab-e554-54c10a14236d"
      },
      "outputs": [
        {
          "output_type": "stream",
          "name": "stdout",
          "text": [
            "['http://www.hse.ru/data/2019/10/29/1532361365/summary_EN_final (3).pdf', 'http://www.hse.ru/data/2019/10/22/1528885739/Mitrofanova - summary.pdf', 'http://www.hse.ru/data/2019/10/18/1543364021/Borodina E._Summary_181019.pdf', 'http://www.hse.ru/data/2019/10/16/1239735382/Меликян_Summary 16.10.pdf', 'http://www.hse.ru/data/2019/10/03/1182240389/Кучин_резюме_ENG.pdf', 'http://www.hse.ru/data/2019/10/15/1539883570/summary.pdf', 'http://www.hse.ru/data/2019/10/11/1541034023/Resume.pdf', 'http://www.hse.ru/data/2019/10/11/1535827784/kulikova_thesis summary_final.pdf', 'http://www.hse.ru/data/2019/08/26/1536057698/Сидорова_summary.pdf', 'http://www.hse.ru/data/2019/10/04/1184372726/Резюме на английском_Захарова_04.10.2019_финал.pdf']\n"
          ]
        }
      ],
      "source": [
        "print(links)"
      ]
    },
    {
      "cell_type": "markdown",
      "metadata": {
        "id": "AH6pHSx69KwJ"
      },
      "source": [
        "Теперь попробуем сохранить файл. У нас все файлы pdf, будем переименовывать их фамилиями автора. Кстати, если файлы разного формата, то расширение можно узнать через атрибут headers"
      ]
    },
    {
      "cell_type": "code",
      "execution_count": 15,
      "metadata": {
        "colab": {
          "base_uri": "https://localhost:8080/"
        },
        "id": "PFsFNH1z9KwJ",
        "outputId": "80f768f7-7ad1-4af1-af07-ae8faa3d508c"
      },
      "outputs": [
        {
          "output_type": "execute_result",
          "data": {
            "text/plain": [
              "'application/pdf'"
            ]
          },
          "metadata": {},
          "execution_count": 15
        }
      ],
      "source": [
        "requests.get(links[0]).headers['content-type']"
      ]
    },
    {
      "cell_type": "code",
      "execution_count": 16,
      "metadata": {
        "id": "-K0kCgMn9KwJ"
      },
      "outputs": [],
      "source": [
        "# потоковое чтение файла, потому pdf может быть большим и не уместиться в памяти\n",
        "summary = requests.get(links[0], stream=True)\n",
        "\n",
        "# на всякий случай делаем проверку, иначе получим битый файл\n",
        "if summary.headers['content-type'] == 'application/pdf':\n",
        "\n",
        "    # wb - запись байтовой информации\n",
        "    fh = open('test.pdf', 'wb')\n",
        "\n",
        "    # считываем туда \"содержание\" файла по ссылке\n",
        "    fh.write(summary.content)\n",
        "    fh.close()"
      ]
    },
    {
      "cell_type": "code",
      "execution_count": 25,
      "metadata": {
        "colab": {
          "base_uri": "https://localhost:8080/"
        },
        "id": "NIO2uk1G9KwJ",
        "outputId": "cdbe2996-44a9-4e6a-929a-25c4fe9939f4"
      },
      "outputs": [
        {
          "output_type": "execute_result",
          "data": {
            "text/plain": [
              "'C:\\\\Users\\\\i.kosarev'"
            ]
          },
          "metadata": {},
          "execution_count": 25
        }
      ],
      "source": [
        "import os\n",
        "os.getcwd()\n",
        "# os.chdir()"
      ]
    },
    {
      "cell_type": "markdown",
      "metadata": {
        "id": "ENRdkTR09KwJ"
      },
      "source": [
        "Давайте теперь еще добавим имя файла по фамилии."
      ]
    },
    {
      "cell_type": "code",
      "execution_count": 18,
      "metadata": {
        "id": "EK-gl4BS9KwJ"
      },
      "outputs": [],
      "source": [
        "# потоковое чтение файла, потому pdf может быть большим и не уместиться в памяти\n",
        "summary = requests.get(links[0], stream=True)\n",
        "\n",
        "# на всякий случай делаем проверку, иначе получим битый файл\n",
        "if summary.headers['content-type'] == 'application/pdf':\n",
        "\n",
        "    # wb - запись байтовой информации\n",
        "    fh = open(f'{authors[0]}.pdf', 'wb')\n",
        "\n",
        "    # считываем туда \"содержание\" файла по ссылке\n",
        "    fh.write(summary.content)\n",
        "    fh.close()"
      ]
    },
    {
      "cell_type": "markdown",
      "metadata": {
        "id": "w9mbjUWu9KwK"
      },
      "source": [
        "Давайте сохраним обработку файла в функцию и соберем уже все в цикл."
      ]
    },
    {
      "cell_type": "code",
      "execution_count": 19,
      "metadata": {
        "colab": {
          "base_uri": "https://localhost:8080/"
        },
        "id": "wc98BPsm9KwK",
        "outputId": "ee0d4ceb-e746-41c4-d1e3-4a7c509a0235"
      },
      "outputs": [
        {
          "output_type": "execute_result",
          "data": {
            "text/plain": [
              "['Белобородова',\n",
              " 'Митрофанова',\n",
              " 'Бородина',\n",
              " 'Меликян',\n",
              " 'Кучин',\n",
              " 'Монахов',\n",
              " 'Годин',\n",
              " 'Куликова',\n",
              " 'Сидорова',\n",
              " 'Захарова']"
            ]
          },
          "metadata": {},
          "execution_count": 19
        }
      ],
      "source": [
        "authors"
      ]
    },
    {
      "cell_type": "code",
      "execution_count": 23,
      "metadata": {
        "id": "NRs1tqb19KwK"
      },
      "outputs": [],
      "source": [
        "import re\n",
        "def get_pdf(idx):\n",
        "    summary = requests.get(links[idx], stream=True) # потоковое чтение файла, потому pdf может быть большим и не уместиться в памяти\n",
        "    if summary.headers['content-type'] == 'application/pdf': # на всякий случай делаем проверку, иначе получим битый файл\n",
        "        fh = open(f'{authors[idx]}.pdf', 'wb') # wb - запись байтовой информации\n",
        "        fh.write(summary.content) # считываем туда \"содержание\" файла по ссылке\n",
        "        fh.close()"
      ]
    },
    {
      "cell_type": "code",
      "execution_count": null,
      "metadata": {
        "id": "6Ba3Ruqt9KwK",
        "outputId": "5d8f3361-d67d-4a19-94a1-b71251b4fe23"
      },
      "outputs": [
        {
          "name": "stderr",
          "output_type": "stream",
          "text": [
            "C:\\Temp/ipykernel_7876/670446889.py:7: DeprecationWarning: The 'text' argument to find()-type methods is deprecated. Use 'string' instead.\n",
            "  for link in soup.find_all('a', text='Summary'):\n",
            "C:\\Temp/ipykernel_7876/670446889.py:11: DeprecationWarning: The 'text' argument to find()-type methods is deprecated. Use 'string' instead.\n",
            "  for author in soup.find_all('div', text='Соискатель:'):\n"
          ]
        }
      ],
      "source": [
        "link = 'https://www.hse.ru/sci/diss/?author=&chief=&year=2019&type=1&degree_type=&council=&spec=&fulltext=yes'\n",
        "driver.get(link)\n",
        "\n",
        "soup = BeautifulSoup(driver.page_source)\n",
        "\n",
        "links = []\n",
        "for link in soup.find_all('a', text='Summary'):\n",
        "    links.append(link.get('href'))\n",
        "\n",
        "authors = []\n",
        "for author in soup.find_all('div', text='Соискатель:'):\n",
        "    authors.append(author.parent()[1].get_text().split()[0])"
      ]
    },
    {
      "cell_type": "code",
      "execution_count": 20,
      "metadata": {
        "colab": {
          "base_uri": "https://localhost:8080/"
        },
        "id": "ZAkqJDGS9KwK",
        "outputId": "58b97932-9d31-40bb-ad02-442ce95142cc"
      },
      "outputs": [
        {
          "output_type": "execute_result",
          "data": {
            "text/plain": [
              "10"
            ]
          },
          "metadata": {},
          "execution_count": 20
        }
      ],
      "source": [
        "len(links)"
      ]
    },
    {
      "cell_type": "code",
      "execution_count": 21,
      "metadata": {
        "colab": {
          "base_uri": "https://localhost:8080/"
        },
        "id": "JxwoLL6H9KwK",
        "outputId": "1b8101cc-8aca-4a32-c4ea-eb41ae75c756"
      },
      "outputs": [
        {
          "output_type": "execute_result",
          "data": {
            "text/plain": [
              "10"
            ]
          },
          "metadata": {},
          "execution_count": 21
        }
      ],
      "source": [
        "len(authors)"
      ]
    },
    {
      "cell_type": "code",
      "execution_count": 24,
      "metadata": {
        "id": "if72Kh8D9KwK"
      },
      "outputs": [],
      "source": [
        "for idx in range(len(links)):\n",
        "    get_pdf(idx)"
      ]
    },
    {
      "cell_type": "markdown",
      "metadata": {
        "id": "8YbdwuWX9KwK"
      },
      "source": [
        "Готово!"
      ]
    }
  ],
  "metadata": {
    "kernelspec": {
      "display_name": "Python 3 (ipykernel)",
      "language": "python",
      "name": "python3"
    },
    "language_info": {
      "codemirror_mode": {
        "name": "ipython",
        "version": 3
      },
      "file_extension": ".py",
      "mimetype": "text/x-python",
      "name": "python",
      "nbconvert_exporter": "python",
      "pygments_lexer": "ipython3",
      "version": "3.10.0"
    },
    "colab": {
      "provenance": []
    }
  },
  "nbformat": 4,
  "nbformat_minor": 0
}